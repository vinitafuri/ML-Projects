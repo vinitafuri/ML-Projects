{
 "cells": [
  {
   "cell_type": "markdown",
   "id": "3607c097-cebc-40fc-bf9a-af2663a4746b",
   "metadata": {},
   "source": [
    "# Customer Churn"
   ]
  },
  {
   "cell_type": "markdown",
   "id": "7c6a5d0d-11b4-41f8-9fb6-049a7cbc1d36",
   "metadata": {},
   "source": [
    "O objetivo deste notebook é prever a tendência de clientes abandonarem os serviços de uma determinada empresa de Telecomunicações (Churn) através de algoritmos de classificação."
   ]
  },
  {
   "cell_type": "markdown",
   "id": "0bc013e6-dc0c-4302-bdfa-f3c1f9a7b933",
   "metadata": {},
   "source": [
    "## 1. Os dados"
   ]
  },
  {
   "cell_type": "markdown",
   "id": "17b3aa60-f2f5-4207-b3b5-92c508deb860",
   "metadata": {},
   "source": [
    "O dataset inclui as seguintes informações:\n",
    "\n",
    "- CustomerID: ID do cliente\n",
    "- gender: Gênero do cliente ('male' ou 'female')\n",
    "- SeniorCitizen: Se o cliente é idoso (1 para sim ou 0 para não)\n",
    "- Partner: Se o cliente possui algum parceiro(a) ('Yes' ou 'No')\n",
    "- Dependents: Se o cliente possui algum dependente ('Yes' ou 'No')\n",
    "- tenure: Tempo de relação com o cliente em meses\n",
    "- PhoneService: Se o cliente possui serviço telefônico ('Yes' ou 'No')\n",
    "- MultipleLines: Se o cliente possui múltiplas linhas ('Yes', 'No' ou 'No phone service')\n",
    "- InternetService: Tipo de serviço de internet ('Fiber optic', 'DSL' ou 'No')\n",
    "- OnlineSecurity: Se o cliente possui segurança online ('Yes', 'No' ou 'No internet service')\n",
    "- OnlineBackup: Se o cliente possui backup online ('Yes', 'No' ou 'No internet service')\n",
    "- DeviceProtection: Se o cliente possui proteção ao dispositivo ('Yes', 'No' ou 'No internet service')\n",
    "- TechSupport: Se o cliente possui suporte técnico ('Yes', 'No' ou 'No internet service')\n",
    "- StreamingTV: Se o cliente possui um serviço de streaming de TV ('Yes', 'No' ou 'No internet service')\n",
    "- StreamingMovies: Se o cliente possui um serviço de streaming de filmes ('Yes', 'No' ou 'No internet service')\n",
    "- Contract: Tipo de contrato ('Month-to-month', 'One year' ou 'Two year')\n",
    "- PaperlessBilling: Cobrança online ('Yes' ou 'No')\n",
    "- PaymentMethod: Método de Pagamento ('Electronic check', 'Mailed check', 'Bank transfer (automatic)' ou 'Credit card (automatic)')\n",
    "- MonthlyCharges: Valor das despesas mensais\n",
    "- TotalCharges: Valor total de despesas\n",
    "- Churn: Se o cliente abandonou a empresa ('Yes' ou 'No')"
   ]
  },
  {
   "cell_type": "markdown",
   "id": "1ec4c222-f92b-4644-9a47-23a6ac671f35",
   "metadata": {},
   "source": [
    "### 1.1 Importando as bibliotecas necessárias"
   ]
  },
  {
   "cell_type": "code",
   "execution_count": 1,
   "id": "c4f5c1ba-0a38-4235-8b5f-885ed3d98d1a",
   "metadata": {},
   "outputs": [],
   "source": [
    "import pandas as pd\n",
    "import numpy as np\n",
    "import matplotlib.pyplot as plt\n",
    "import seaborn as sns"
   ]
  },
  {
   "cell_type": "markdown",
   "id": "cae16598-5720-4458-a6e2-15e4c23b7021",
   "metadata": {},
   "source": [
    "### 1.2 Carregando a base de dados"
   ]
  },
  {
   "cell_type": "code",
   "execution_count": 2,
   "id": "ad9bde9d-a8e3-4948-9683-e5eb490f018b",
   "metadata": {},
   "outputs": [],
   "source": [
    "df = pd.read_csv('Telco-Customer-Churn.csv')"
   ]
  },
  {
   "cell_type": "code",
   "execution_count": 3,
   "id": "373ddd27-079e-4c71-b3a5-9da615b2d7d4",
   "metadata": {},
   "outputs": [
    {
     "data": {
      "text/html": [
       "<div>\n",
       "<style scoped>\n",
       "    .dataframe tbody tr th:only-of-type {\n",
       "        vertical-align: middle;\n",
       "    }\n",
       "\n",
       "    .dataframe tbody tr th {\n",
       "        vertical-align: top;\n",
       "    }\n",
       "\n",
       "    .dataframe thead th {\n",
       "        text-align: right;\n",
       "    }\n",
       "</style>\n",
       "<table border=\"1\" class=\"dataframe\">\n",
       "  <thead>\n",
       "    <tr style=\"text-align: right;\">\n",
       "      <th></th>\n",
       "      <th>customerID</th>\n",
       "      <th>gender</th>\n",
       "      <th>SeniorCitizen</th>\n",
       "      <th>Partner</th>\n",
       "      <th>Dependents</th>\n",
       "      <th>tenure</th>\n",
       "      <th>PhoneService</th>\n",
       "      <th>MultipleLines</th>\n",
       "      <th>InternetService</th>\n",
       "      <th>OnlineSecurity</th>\n",
       "      <th>...</th>\n",
       "      <th>DeviceProtection</th>\n",
       "      <th>TechSupport</th>\n",
       "      <th>StreamingTV</th>\n",
       "      <th>StreamingMovies</th>\n",
       "      <th>Contract</th>\n",
       "      <th>PaperlessBilling</th>\n",
       "      <th>PaymentMethod</th>\n",
       "      <th>MonthlyCharges</th>\n",
       "      <th>TotalCharges</th>\n",
       "      <th>Churn</th>\n",
       "    </tr>\n",
       "  </thead>\n",
       "  <tbody>\n",
       "    <tr>\n",
       "      <th>0</th>\n",
       "      <td>7590-VHVEG</td>\n",
       "      <td>Female</td>\n",
       "      <td>0</td>\n",
       "      <td>Yes</td>\n",
       "      <td>No</td>\n",
       "      <td>1</td>\n",
       "      <td>No</td>\n",
       "      <td>No phone service</td>\n",
       "      <td>DSL</td>\n",
       "      <td>No</td>\n",
       "      <td>...</td>\n",
       "      <td>No</td>\n",
       "      <td>No</td>\n",
       "      <td>No</td>\n",
       "      <td>No</td>\n",
       "      <td>Month-to-month</td>\n",
       "      <td>Yes</td>\n",
       "      <td>Electronic check</td>\n",
       "      <td>29.85</td>\n",
       "      <td>29.85</td>\n",
       "      <td>No</td>\n",
       "    </tr>\n",
       "    <tr>\n",
       "      <th>1</th>\n",
       "      <td>5575-GNVDE</td>\n",
       "      <td>Male</td>\n",
       "      <td>0</td>\n",
       "      <td>No</td>\n",
       "      <td>No</td>\n",
       "      <td>34</td>\n",
       "      <td>Yes</td>\n",
       "      <td>No</td>\n",
       "      <td>DSL</td>\n",
       "      <td>Yes</td>\n",
       "      <td>...</td>\n",
       "      <td>Yes</td>\n",
       "      <td>No</td>\n",
       "      <td>No</td>\n",
       "      <td>No</td>\n",
       "      <td>One year</td>\n",
       "      <td>No</td>\n",
       "      <td>Mailed check</td>\n",
       "      <td>56.95</td>\n",
       "      <td>1889.5</td>\n",
       "      <td>No</td>\n",
       "    </tr>\n",
       "    <tr>\n",
       "      <th>2</th>\n",
       "      <td>3668-QPYBK</td>\n",
       "      <td>Male</td>\n",
       "      <td>0</td>\n",
       "      <td>No</td>\n",
       "      <td>No</td>\n",
       "      <td>2</td>\n",
       "      <td>Yes</td>\n",
       "      <td>No</td>\n",
       "      <td>DSL</td>\n",
       "      <td>Yes</td>\n",
       "      <td>...</td>\n",
       "      <td>No</td>\n",
       "      <td>No</td>\n",
       "      <td>No</td>\n",
       "      <td>No</td>\n",
       "      <td>Month-to-month</td>\n",
       "      <td>Yes</td>\n",
       "      <td>Mailed check</td>\n",
       "      <td>53.85</td>\n",
       "      <td>108.15</td>\n",
       "      <td>Yes</td>\n",
       "    </tr>\n",
       "    <tr>\n",
       "      <th>3</th>\n",
       "      <td>7795-CFOCW</td>\n",
       "      <td>Male</td>\n",
       "      <td>0</td>\n",
       "      <td>No</td>\n",
       "      <td>No</td>\n",
       "      <td>45</td>\n",
       "      <td>No</td>\n",
       "      <td>No phone service</td>\n",
       "      <td>DSL</td>\n",
       "      <td>Yes</td>\n",
       "      <td>...</td>\n",
       "      <td>Yes</td>\n",
       "      <td>Yes</td>\n",
       "      <td>No</td>\n",
       "      <td>No</td>\n",
       "      <td>One year</td>\n",
       "      <td>No</td>\n",
       "      <td>Bank transfer (automatic)</td>\n",
       "      <td>42.30</td>\n",
       "      <td>1840.75</td>\n",
       "      <td>No</td>\n",
       "    </tr>\n",
       "    <tr>\n",
       "      <th>4</th>\n",
       "      <td>9237-HQITU</td>\n",
       "      <td>Female</td>\n",
       "      <td>0</td>\n",
       "      <td>No</td>\n",
       "      <td>No</td>\n",
       "      <td>2</td>\n",
       "      <td>Yes</td>\n",
       "      <td>No</td>\n",
       "      <td>Fiber optic</td>\n",
       "      <td>No</td>\n",
       "      <td>...</td>\n",
       "      <td>No</td>\n",
       "      <td>No</td>\n",
       "      <td>No</td>\n",
       "      <td>No</td>\n",
       "      <td>Month-to-month</td>\n",
       "      <td>Yes</td>\n",
       "      <td>Electronic check</td>\n",
       "      <td>70.70</td>\n",
       "      <td>151.65</td>\n",
       "      <td>Yes</td>\n",
       "    </tr>\n",
       "  </tbody>\n",
       "</table>\n",
       "<p>5 rows × 21 columns</p>\n",
       "</div>"
      ],
      "text/plain": [
       "   customerID  gender  SeniorCitizen Partner Dependents  tenure PhoneService  \\\n",
       "0  7590-VHVEG  Female              0     Yes         No       1           No   \n",
       "1  5575-GNVDE    Male              0      No         No      34          Yes   \n",
       "2  3668-QPYBK    Male              0      No         No       2          Yes   \n",
       "3  7795-CFOCW    Male              0      No         No      45           No   \n",
       "4  9237-HQITU  Female              0      No         No       2          Yes   \n",
       "\n",
       "      MultipleLines InternetService OnlineSecurity  ... DeviceProtection  \\\n",
       "0  No phone service             DSL             No  ...               No   \n",
       "1                No             DSL            Yes  ...              Yes   \n",
       "2                No             DSL            Yes  ...               No   \n",
       "3  No phone service             DSL            Yes  ...              Yes   \n",
       "4                No     Fiber optic             No  ...               No   \n",
       "\n",
       "  TechSupport StreamingTV StreamingMovies        Contract PaperlessBilling  \\\n",
       "0          No          No              No  Month-to-month              Yes   \n",
       "1          No          No              No        One year               No   \n",
       "2          No          No              No  Month-to-month              Yes   \n",
       "3         Yes          No              No        One year               No   \n",
       "4          No          No              No  Month-to-month              Yes   \n",
       "\n",
       "               PaymentMethod MonthlyCharges  TotalCharges Churn  \n",
       "0           Electronic check          29.85         29.85    No  \n",
       "1               Mailed check          56.95        1889.5    No  \n",
       "2               Mailed check          53.85        108.15   Yes  \n",
       "3  Bank transfer (automatic)          42.30       1840.75    No  \n",
       "4           Electronic check          70.70        151.65   Yes  \n",
       "\n",
       "[5 rows x 21 columns]"
      ]
     },
     "execution_count": 3,
     "metadata": {},
     "output_type": "execute_result"
    }
   ],
   "source": [
    "df.head()"
   ]
  },
  {
   "cell_type": "markdown",
   "id": "9fff48f0-489b-4535-84c0-490dd5f5e497",
   "metadata": {},
   "source": [
    "#### Checando as informações do dataframe"
   ]
  },
  {
   "cell_type": "code",
   "execution_count": 4,
   "id": "d29ef5a1-6bf9-440f-8fd2-1eac75cfe027",
   "metadata": {},
   "outputs": [
    {
     "name": "stdout",
     "output_type": "stream",
     "text": [
      "<class 'pandas.core.frame.DataFrame'>\n",
      "RangeIndex: 7043 entries, 0 to 7042\n",
      "Data columns (total 21 columns):\n",
      " #   Column            Non-Null Count  Dtype  \n",
      "---  ------            --------------  -----  \n",
      " 0   customerID        7043 non-null   object \n",
      " 1   gender            7043 non-null   object \n",
      " 2   SeniorCitizen     7043 non-null   int64  \n",
      " 3   Partner           7043 non-null   object \n",
      " 4   Dependents        7043 non-null   object \n",
      " 5   tenure            7043 non-null   int64  \n",
      " 6   PhoneService      7043 non-null   object \n",
      " 7   MultipleLines     7043 non-null   object \n",
      " 8   InternetService   7043 non-null   object \n",
      " 9   OnlineSecurity    7043 non-null   object \n",
      " 10  OnlineBackup      7043 non-null   object \n",
      " 11  DeviceProtection  7043 non-null   object \n",
      " 12  TechSupport       7043 non-null   object \n",
      " 13  StreamingTV       7043 non-null   object \n",
      " 14  StreamingMovies   7043 non-null   object \n",
      " 15  Contract          7043 non-null   object \n",
      " 16  PaperlessBilling  7043 non-null   object \n",
      " 17  PaymentMethod     7043 non-null   object \n",
      " 18  MonthlyCharges    7043 non-null   float64\n",
      " 19  TotalCharges      7043 non-null   object \n",
      " 20  Churn             7043 non-null   object \n",
      "dtypes: float64(1), int64(2), object(18)\n",
      "memory usage: 1.1+ MB\n"
     ]
    }
   ],
   "source": [
    "df.info()"
   ]
  },
  {
   "cell_type": "markdown",
   "id": "3b510337-e653-440c-b800-e960a817d03e",
   "metadata": {},
   "source": [
    "**O fato da coluna 'TotalCharges' não apresentar valores numéricos é ruim e será necessário convertê-los futuramente!**"
   ]
  },
  {
   "cell_type": "markdown",
   "id": "f4708160-e464-4a1a-9fcc-1e2abd09177e",
   "metadata": {},
   "source": [
    "#### Checando a presença de valores nulos"
   ]
  },
  {
   "cell_type": "code",
   "execution_count": 5,
   "id": "a2ae7cb1-278d-4c18-811b-7595dbe3af89",
   "metadata": {},
   "outputs": [
    {
     "data": {
      "text/plain": [
       "customerID          0\n",
       "gender              0\n",
       "SeniorCitizen       0\n",
       "Partner             0\n",
       "Dependents          0\n",
       "tenure              0\n",
       "PhoneService        0\n",
       "MultipleLines       0\n",
       "InternetService     0\n",
       "OnlineSecurity      0\n",
       "OnlineBackup        0\n",
       "DeviceProtection    0\n",
       "TechSupport         0\n",
       "StreamingTV         0\n",
       "StreamingMovies     0\n",
       "Contract            0\n",
       "PaperlessBilling    0\n",
       "PaymentMethod       0\n",
       "MonthlyCharges      0\n",
       "TotalCharges        0\n",
       "Churn               0\n",
       "dtype: int64"
      ]
     },
     "execution_count": 5,
     "metadata": {},
     "output_type": "execute_result"
    }
   ],
   "source": [
    "df.isna().sum()"
   ]
  },
  {
   "cell_type": "markdown",
   "id": "3a9458c5-a202-488d-9b32-e1fe2c2c6010",
   "metadata": {},
   "source": [
    "A partir daqui, a coluna com os IDs dos clientes é desnecessária para as análises"
   ]
  },
  {
   "cell_type": "code",
   "execution_count": 6,
   "id": "613eb5c2-ec9f-4ea9-9536-4721b678c4fe",
   "metadata": {},
   "outputs": [
    {
     "data": {
      "text/html": [
       "<div>\n",
       "<style scoped>\n",
       "    .dataframe tbody tr th:only-of-type {\n",
       "        vertical-align: middle;\n",
       "    }\n",
       "\n",
       "    .dataframe tbody tr th {\n",
       "        vertical-align: top;\n",
       "    }\n",
       "\n",
       "    .dataframe thead th {\n",
       "        text-align: right;\n",
       "    }\n",
       "</style>\n",
       "<table border=\"1\" class=\"dataframe\">\n",
       "  <thead>\n",
       "    <tr style=\"text-align: right;\">\n",
       "      <th></th>\n",
       "      <th>gender</th>\n",
       "      <th>SeniorCitizen</th>\n",
       "      <th>Partner</th>\n",
       "      <th>Dependents</th>\n",
       "      <th>tenure</th>\n",
       "      <th>PhoneService</th>\n",
       "      <th>MultipleLines</th>\n",
       "      <th>InternetService</th>\n",
       "      <th>OnlineSecurity</th>\n",
       "      <th>OnlineBackup</th>\n",
       "      <th>DeviceProtection</th>\n",
       "      <th>TechSupport</th>\n",
       "      <th>StreamingTV</th>\n",
       "      <th>StreamingMovies</th>\n",
       "      <th>Contract</th>\n",
       "      <th>PaperlessBilling</th>\n",
       "      <th>PaymentMethod</th>\n",
       "      <th>MonthlyCharges</th>\n",
       "      <th>TotalCharges</th>\n",
       "      <th>Churn</th>\n",
       "    </tr>\n",
       "  </thead>\n",
       "  <tbody>\n",
       "    <tr>\n",
       "      <th>0</th>\n",
       "      <td>Female</td>\n",
       "      <td>0</td>\n",
       "      <td>Yes</td>\n",
       "      <td>No</td>\n",
       "      <td>1</td>\n",
       "      <td>No</td>\n",
       "      <td>No phone service</td>\n",
       "      <td>DSL</td>\n",
       "      <td>No</td>\n",
       "      <td>Yes</td>\n",
       "      <td>No</td>\n",
       "      <td>No</td>\n",
       "      <td>No</td>\n",
       "      <td>No</td>\n",
       "      <td>Month-to-month</td>\n",
       "      <td>Yes</td>\n",
       "      <td>Electronic check</td>\n",
       "      <td>29.85</td>\n",
       "      <td>29.85</td>\n",
       "      <td>No</td>\n",
       "    </tr>\n",
       "    <tr>\n",
       "      <th>1</th>\n",
       "      <td>Male</td>\n",
       "      <td>0</td>\n",
       "      <td>No</td>\n",
       "      <td>No</td>\n",
       "      <td>34</td>\n",
       "      <td>Yes</td>\n",
       "      <td>No</td>\n",
       "      <td>DSL</td>\n",
       "      <td>Yes</td>\n",
       "      <td>No</td>\n",
       "      <td>Yes</td>\n",
       "      <td>No</td>\n",
       "      <td>No</td>\n",
       "      <td>No</td>\n",
       "      <td>One year</td>\n",
       "      <td>No</td>\n",
       "      <td>Mailed check</td>\n",
       "      <td>56.95</td>\n",
       "      <td>1889.5</td>\n",
       "      <td>No</td>\n",
       "    </tr>\n",
       "    <tr>\n",
       "      <th>2</th>\n",
       "      <td>Male</td>\n",
       "      <td>0</td>\n",
       "      <td>No</td>\n",
       "      <td>No</td>\n",
       "      <td>2</td>\n",
       "      <td>Yes</td>\n",
       "      <td>No</td>\n",
       "      <td>DSL</td>\n",
       "      <td>Yes</td>\n",
       "      <td>Yes</td>\n",
       "      <td>No</td>\n",
       "      <td>No</td>\n",
       "      <td>No</td>\n",
       "      <td>No</td>\n",
       "      <td>Month-to-month</td>\n",
       "      <td>Yes</td>\n",
       "      <td>Mailed check</td>\n",
       "      <td>53.85</td>\n",
       "      <td>108.15</td>\n",
       "      <td>Yes</td>\n",
       "    </tr>\n",
       "    <tr>\n",
       "      <th>3</th>\n",
       "      <td>Male</td>\n",
       "      <td>0</td>\n",
       "      <td>No</td>\n",
       "      <td>No</td>\n",
       "      <td>45</td>\n",
       "      <td>No</td>\n",
       "      <td>No phone service</td>\n",
       "      <td>DSL</td>\n",
       "      <td>Yes</td>\n",
       "      <td>No</td>\n",
       "      <td>Yes</td>\n",
       "      <td>Yes</td>\n",
       "      <td>No</td>\n",
       "      <td>No</td>\n",
       "      <td>One year</td>\n",
       "      <td>No</td>\n",
       "      <td>Bank transfer (automatic)</td>\n",
       "      <td>42.30</td>\n",
       "      <td>1840.75</td>\n",
       "      <td>No</td>\n",
       "    </tr>\n",
       "    <tr>\n",
       "      <th>4</th>\n",
       "      <td>Female</td>\n",
       "      <td>0</td>\n",
       "      <td>No</td>\n",
       "      <td>No</td>\n",
       "      <td>2</td>\n",
       "      <td>Yes</td>\n",
       "      <td>No</td>\n",
       "      <td>Fiber optic</td>\n",
       "      <td>No</td>\n",
       "      <td>No</td>\n",
       "      <td>No</td>\n",
       "      <td>No</td>\n",
       "      <td>No</td>\n",
       "      <td>No</td>\n",
       "      <td>Month-to-month</td>\n",
       "      <td>Yes</td>\n",
       "      <td>Electronic check</td>\n",
       "      <td>70.70</td>\n",
       "      <td>151.65</td>\n",
       "      <td>Yes</td>\n",
       "    </tr>\n",
       "  </tbody>\n",
       "</table>\n",
       "</div>"
      ],
      "text/plain": [
       "   gender  SeniorCitizen Partner Dependents  tenure PhoneService  \\\n",
       "0  Female              0     Yes         No       1           No   \n",
       "1    Male              0      No         No      34          Yes   \n",
       "2    Male              0      No         No       2          Yes   \n",
       "3    Male              0      No         No      45           No   \n",
       "4  Female              0      No         No       2          Yes   \n",
       "\n",
       "      MultipleLines InternetService OnlineSecurity OnlineBackup  \\\n",
       "0  No phone service             DSL             No          Yes   \n",
       "1                No             DSL            Yes           No   \n",
       "2                No             DSL            Yes          Yes   \n",
       "3  No phone service             DSL            Yes           No   \n",
       "4                No     Fiber optic             No           No   \n",
       "\n",
       "  DeviceProtection TechSupport StreamingTV StreamingMovies        Contract  \\\n",
       "0               No          No          No              No  Month-to-month   \n",
       "1              Yes          No          No              No        One year   \n",
       "2               No          No          No              No  Month-to-month   \n",
       "3              Yes         Yes          No              No        One year   \n",
       "4               No          No          No              No  Month-to-month   \n",
       "\n",
       "  PaperlessBilling              PaymentMethod  MonthlyCharges TotalCharges  \\\n",
       "0              Yes           Electronic check           29.85        29.85   \n",
       "1               No               Mailed check           56.95       1889.5   \n",
       "2              Yes               Mailed check           53.85       108.15   \n",
       "3               No  Bank transfer (automatic)           42.30      1840.75   \n",
       "4              Yes           Electronic check           70.70       151.65   \n",
       "\n",
       "  Churn  \n",
       "0    No  \n",
       "1    No  \n",
       "2   Yes  \n",
       "3    No  \n",
       "4   Yes  "
      ]
     },
     "execution_count": 6,
     "metadata": {},
     "output_type": "execute_result"
    }
   ],
   "source": [
    "df = df.drop('customerID', axis=1)\n",
    "df.head()"
   ]
  },
  {
   "cell_type": "markdown",
   "id": "6f478160-9362-418b-ba02-1fd81010a14e",
   "metadata": {},
   "source": [
    "## 2. Análise Exploratória dos Dados"
   ]
  },
  {
   "cell_type": "markdown",
   "id": "fcd6e8e9-73f0-421a-8d8b-5ddb7b644037",
   "metadata": {},
   "source": [
    "### Contando a quantidade de 'Churn'\n",
    "\n",
    "é possível verificar tanto numericamente quanto visualmente!"
   ]
  },
  {
   "cell_type": "code",
   "execution_count": 7,
   "id": "cbcccb8d-563e-4f18-ba25-e9375875fbc8",
   "metadata": {},
   "outputs": [
    {
     "data": {
      "text/plain": [
       "No     5174\n",
       "Yes    1869\n",
       "Name: Churn, dtype: int64"
      ]
     },
     "execution_count": 7,
     "metadata": {},
     "output_type": "execute_result"
    }
   ],
   "source": [
    "df['Churn'].value_counts() "
   ]
  },
  {
   "cell_type": "code",
   "execution_count": 8,
   "id": "06fec947-759a-4083-8cd3-9de25ec2a9e4",
   "metadata": {},
   "outputs": [
    {
     "data": {
      "text/plain": [
       "<AxesSubplot:xlabel='Churn', ylabel='count'>"
      ]
     },
     "execution_count": 8,
     "metadata": {},
     "output_type": "execute_result"
    },
    {
     "data": {
      "image/png": "[encoded data removed]",
      "text/plain": [
       "<Figure size 432x288 with 1 Axes>"
      ]
     },
     "metadata": {
      "needs_background": "light"
     },
     "output_type": "display_data"
    }
   ],
   "source": [
    "sns.countplot(data=df, x='Churn')"
   ]
  },
  {
   "cell_type": "markdown",
   "id": "2b184269-cbce-4258-9bb1-a50f7459af01",
   "metadata": {},
   "source": [
    "### 'Churn' por característica do cliente"
   ]
  },
  {
   "cell_type": "markdown",
   "id": "3aa012c0-3a18-45d3-a7b6-c70fef6e4b1e",
   "metadata": {},
   "source": [
    "Aqui será possível gerar gráficos de contagem para cada característica de cliente a fim de determinar qual delas é mais importante para sua \"perda\"."
   ]
  },
  {
   "cell_type": "code",
   "execution_count": 9,
   "id": "6e170663-d469-430d-85c4-d925a8e3f597",
   "metadata": {},
   "outputs": [
    {
     "data": {
      "image/png": "[encoded data removed]",
      "text/plain": [
       "<Figure size 432x288 with 1 Axes>"
      ]
     },
     "metadata": {
      "needs_background": "light"
     },
     "output_type": "display_data"
    },
    {
     "data": {
      "image/png": "[encoded data removed]",
      "text/plain": [
       "<Figure size 432x288 with 1 Axes>"
      ]
     },
     "metadata": {
      "needs_background": "light"
     },
     "output_type": "display_data"
    },
    {
     "data": {
      "image/png": "[encoded data removed]",
      "text/plain": [
       "<Figure size 432x288 with 1 Axes>"
      ]
     },
     "metadata": {
      "needs_background": "light"
     },
     "output_type": "display_data"
    },
    {
     "data": {
      "image/png": "[encoded data removed]",
      "text/plain": [
       "<Figure size 432x288 with 1 Axes>"
      ]
     },
     "metadata": {
      "needs_background": "light"
     },
     "output_type": "display_data"
    },
    {
     "data": {
      "image/png": "[encoded data removed]",
      "text/plain": [
       "<Figure size 432x288 with 1 Axes>"
      ]
     },
     "metadata": {
      "needs_background": "light"
     },
     "output_type": "display_data"
    },
    {
     "data": {
      "image/png": "[encoded data removed]",
      "text/plain": [
       "<Figure size 432x288 with 1 Axes>"
      ]
     },
     "metadata": {
      "needs_background": "light"
     },
     "output_type": "display_data"
    },
    {
     "data": {
      "image/png": "[encoded data removed]",
      "text/plain": [
       "<Figure size 432x288 with 1 Axes>"
      ]
     },
     "metadata": {
      "needs_background": "light"
     },
     "output_type": "display_data"
    },
    {
     "data": {
      "image/png": "[encoded data removed]",
      "text/plain": [
       "<Figure size 432x288 with 1 Axes>"
      ]
     },
     "metadata": {
      "needs_background": "light"
     },
     "output_type": "display_data"
    },
    {
     "data": {
      "image/png": "[encoded data removed]",
      "text/plain": [
       "<Figure size 432x288 with 1 Axes>"
      ]
     },
     "metadata": {
      "needs_background": "light"
     },
     "output_type": "display_data"
    },
    {
     "data": {
      "image/png": "[encoded data removed]",
      "text/plain": [
       "<Figure size 432x288 with 1 Axes>"
      ]
     },
     "metadata": {
      "needs_background": "light"
     },
     "output_type": "display_data"
    },
    {
     "data": {
      "image/png": "[encoded data removed]",
      "text/plain": [
       "<Figure size 432x288 with 1 Axes>"
      ]
     },
     "metadata": {
      "needs_background": "light"
     },
     "output_type": "display_data"
    },
    {
     "data": {
      "image/png": "[encoded data removed]",
      "text/plain": [
       "<Figure size 432x288 with 1 Axes>"
      ]
     },
     "metadata": {
      "needs_background": "light"
     },
     "output_type": "display_data"
    },
    {
     "data": {
      "image/png": "[encoded data removed]",
      "text/plain": [
       "<Figure size 432x288 with 1 Axes>"
      ]
     },
     "metadata": {
      "needs_background": "light"
     },
     "output_type": "display_data"
    },
    {
     "data": {
      "image/png": "[encoded data removed]",
      "text/plain": [
       "<Figure size 432x288 with 1 Axes>"
      ]
     },
     "metadata": {
      "needs_background": "light"
     },
     "output_type": "display_data"
    },
    {
     "data": {
      "image/png": "[encoded data removed]",
      "text/plain": [
       "<Figure size 432x288 with 1 Axes>"
      ]
     },
     "metadata": {
      "needs_background": "light"
     },
     "output_type": "display_data"
    },
    {
     "data": {
      "image/png": "[encoded data removed]",
      "text/plain": [
       "<Figure size 432x288 with 1 Axes>"
      ]
     },
     "metadata": {
      "needs_background": "light"
     },
     "output_type": "display_data"
    }
   ],
   "source": [
    "for i in range(0,17):\n",
    "    if i != 4: #a coluna 'tenure' foi ignorada, juntamente com 'MonthlyCharges' e 'TotalCharges'\n",
    "        plt.figure(figsize=(6,4))\n",
    "        plt.title(f'Churn per {df.columns[i]}')\n",
    "        sns.countplot(data=df, x='Churn', hue=df[df.columns[i]])\n",
    "        plt.legend(loc='best')"
   ]
  },
  {
   "cell_type": "markdown",
   "id": "c969593b-ec5e-4bcd-abd0-e24bdff421fd",
   "metadata": {},
   "source": [
    "#### Primeiras observações\n",
    "A partir dos gráficos, é possível atestar que:\n",
    "\n",
    "- Clientes idosos abandonam menos os serviços da empresa;\n",
    "- Clientes sem parceiros têm maior tendência a cancelar os serviços;\n",
    "- Clientes sem dependentes tendem mais a cancelar os serviços;\n",
    "- Clientes com serviço de internet de fibra ótica tem maior tendência a cancelar;\n",
    "- Clientes que não possuem segurança online, backup online, proteção ao dispositivo e suporte técnico também tendem mais a cancelar;\n",
    "- Clientes com contratos mensais, cobrança online e pagamento por cheque eletrônico tem maior tendência a abandonar os serviços."
   ]
  },
  {
   "cell_type": "markdown",
   "id": "63ae46d0-5318-47a6-b794-d9a43fa9bc89",
   "metadata": {},
   "source": [
    "### 'Churn' por tempo de vínculo e valor das despesas"
   ]
  },
  {
   "cell_type": "markdown",
   "id": "26b339b2-d86e-4d49-a975-d2ae41643dbd",
   "metadata": {},
   "source": [
    "#### Tempo de vínculo"
   ]
  },
  {
   "cell_type": "code",
   "execution_count": 10,
   "id": "ef414b6a-4884-4f13-ae87-8cb40c5e0d03",
   "metadata": {},
   "outputs": [
    {
     "data": {
      "text/plain": [
       "<seaborn.axisgrid.FacetGrid at 0x1dca2aae0a0>"
      ]
     },
     "execution_count": 10,
     "metadata": {},
     "output_type": "execute_result"
    },
    {
     "data": {
      "image/png": "[encoded data removed]",
      "text/plain": [
       "<Figure size 412x360 with 1 Axes>"
      ]
     },
     "metadata": {
      "needs_background": "light"
     },
     "output_type": "display_data"
    }
   ],
   "source": [
    "sns.displot(data=df, x='tenure', hue='Churn')"
   ]
  },
  {
   "cell_type": "markdown",
   "id": "672684c6-abc2-4ee1-96d4-a261d8af7800",
   "metadata": {},
   "source": [
    "#### Despesas Mensais"
   ]
  },
  {
   "cell_type": "code",
   "execution_count": 11,
   "id": "f8e2b7f2-df44-44e1-a61f-e4f800d2ab3e",
   "metadata": {},
   "outputs": [
    {
     "data": {
      "text/plain": [
       "<seaborn.axisgrid.FacetGrid at 0x1dca3cdfe50>"
      ]
     },
     "execution_count": 11,
     "metadata": {},
     "output_type": "execute_result"
    },
    {
     "data": {
      "image/png": "[encoded data removed]",
      "text/plain": [
       "<Figure size 412x360 with 1 Axes>"
      ]
     },
     "metadata": {
      "needs_background": "light"
     },
     "output_type": "display_data"
    }
   ],
   "source": [
    "sns.displot(data=df, x='MonthlyCharges', hue='Churn')"
   ]
  },
  {
   "cell_type": "markdown",
   "id": "903b188a-874e-40a1-a850-e1c28e509273",
   "metadata": {},
   "source": [
    "#### Despesas Totais\n",
    "\n",
    "Aqui será necessário converter os valores da coluna para valores numéricos (de 'str' para 'float')"
   ]
  },
  {
   "cell_type": "code",
   "execution_count": 12,
   "id": "f543b728-feee-4344-93b5-9fba75bbb8e1",
   "metadata": {},
   "outputs": [],
   "source": [
    "df['TotalCharges'] = df['TotalCharges'].replace(' ', np.nan)\n",
    "df['TotalCharges'] = df['TotalCharges'].astype(float)"
   ]
  },
  {
   "cell_type": "code",
   "execution_count": 13,
   "id": "44d53583-7bf9-4db4-a252-45ecdb2796c2",
   "metadata": {},
   "outputs": [
    {
     "data": {
      "text/plain": [
       "<seaborn.axisgrid.FacetGrid at 0x1dca297fa00>"
      ]
     },
     "execution_count": 13,
     "metadata": {},
     "output_type": "execute_result"
    },
    {
     "data": {
      "image/png": "[encoded data removed]",
      "text/plain": [
       "<Figure size 412x360 with 1 Axes>"
      ]
     },
     "metadata": {
      "needs_background": "light"
     },
     "output_type": "display_data"
    }
   ],
   "source": [
    "sns.displot(data=df, x='TotalCharges', hue='Churn')"
   ]
  },
  {
   "cell_type": "code",
   "execution_count": 14,
   "id": "e12257d3-5e4f-4cbf-843d-ec50ae843007",
   "metadata": {},
   "outputs": [
    {
     "data": {
      "text/plain": [
       "(0.0, 1750.0)"
      ]
     },
     "execution_count": 14,
     "metadata": {},
     "output_type": "execute_result"
    },
    {
     "data": {
      "image/png": "[encoded data removed]",
      "text/plain": [
       "<Figure size 412x360 with 1 Axes>"
      ]
     },
     "metadata": {
      "needs_background": "light"
     },
     "output_type": "display_data"
    }
   ],
   "source": [
    "#dando um 'zoom' no gráfico anterior\n",
    "sns.displot(data=df, x='TotalCharges', hue='Churn')\n",
    "plt.xlim(0,1750)"
   ]
  },
  {
   "cell_type": "markdown",
   "id": "9e97402b-dd69-448d-bd9d-9c4ada87db1f",
   "metadata": {},
   "source": [
    "#### Observações Finais\n",
    "\n",
    "- Clientes com mais tempo de vínculo com a empresa tem menor tendência a cancelar os serviços; \n",
    "- Clientes com contratos mais baratos em sua totalidade tem maior tendência a cancelar."
   ]
  },
  {
   "cell_type": "markdown",
   "id": "651739e8-ffe5-4ef0-922b-1d3feb6bad86",
   "metadata": {},
   "source": [
    "### Outra forma de observar o 'Churn' (Correlação)\n",
    "\n",
    "Aqui é possível observar a correlação entre determinadas características e o 'Churn'\n",
    "\n",
    "**Observação**: quanto mais próxima de 1 a correlação, maior a contribuição para o 'Churn'"
   ]
  },
  {
   "cell_type": "code",
   "execution_count": 15,
   "id": "efda6544-a6c6-41f6-b87a-96fe4b4be949",
   "metadata": {},
   "outputs": [
    {
     "data": {
      "text/plain": [
       "tenure                                    -0.352229\n",
       "Contract_Two year                         -0.302253\n",
       "InternetService_No                        -0.227890\n",
       "StreamingTV_No internet service           -0.227890\n",
       "TechSupport_No internet service           -0.227890\n",
       "DeviceProtection_No internet service      -0.227890\n",
       "OnlineBackup_No internet service          -0.227890\n",
       "OnlineSecurity_No internet service        -0.227890\n",
       "StreamingMovies_No internet service       -0.227890\n",
       "TotalCharges                              -0.199484\n",
       "PaperlessBilling_No                       -0.191825\n",
       "Contract_One year                         -0.177820\n",
       "OnlineSecurity_Yes                        -0.171226\n",
       "TechSupport_Yes                           -0.164674\n",
       "Dependents_Yes                            -0.164221\n",
       "Partner_Yes                               -0.150448\n",
       "PaymentMethod_Credit card (automatic)     -0.134302\n",
       "InternetService_DSL                       -0.124214\n",
       "PaymentMethod_Bank transfer (automatic)   -0.117937\n",
       "PaymentMethod_Mailed check                -0.091683\n",
       "OnlineBackup_Yes                          -0.082255\n",
       "DeviceProtection_Yes                      -0.066160\n",
       "MultipleLines_No                          -0.032569\n",
       "PhoneService_No                           -0.011942\n",
       "MultipleLines_No phone service            -0.011942\n",
       "gender_Male                               -0.008612\n",
       "gender_Female                              0.008612\n",
       "PhoneService_Yes                           0.011942\n",
       "MultipleLines_Yes                          0.040102\n",
       "StreamingMovies_Yes                        0.061382\n",
       "StreamingTV_Yes                            0.063228\n",
       "StreamingTV_No                             0.128916\n",
       "StreamingMovies_No                         0.130845\n",
       "Partner_No                                 0.150448\n",
       "SeniorCitizen                              0.150889\n",
       "Dependents_No                              0.164221\n",
       "PaperlessBilling_Yes                       0.191825\n",
       "MonthlyCharges                             0.193356\n",
       "DeviceProtection_No                        0.252481\n",
       "OnlineBackup_No                            0.268005\n",
       "PaymentMethod_Electronic check             0.301919\n",
       "InternetService_Fiber optic                0.308020\n",
       "TechSupport_No                             0.337281\n",
       "OnlineSecurity_No                          0.342637\n",
       "Contract_Month-to-month                    0.405103\n",
       "Name: Churn_Yes, dtype: float64"
      ]
     },
     "execution_count": 15,
     "metadata": {},
     "output_type": "execute_result"
    }
   ],
   "source": [
    "df_corr = pd.get_dummies(df) #gerar valores binários para os atributos não numéricos\n",
    "df_corr.corr()['Churn_Yes'].sort_values().iloc[1:-1]"
   ]
  },
  {
   "cell_type": "markdown",
   "id": "79ba6f93-9bc2-4154-8ee0-d9418bef7b72",
   "metadata": {},
   "source": [
    "#### Constatações numéricas e novas observações\n",
    "\n",
    "É possível observar que fatores parecidos contribuem para o 'Churn' do cliente, tais como:\n",
    "- Contrato mensal\n",
    "- Falta de segurança online, backup onlin, suporte técnico e proteção ao dispositivo\n",
    "- Serviço de internet por fibra óptica\n",
    "- Método de pagamento por cheque eletrônico\n",
    "\n",
    "Bem como os fatores que mantém os clientes:\n",
    "- Tempo de vínculo (tenure)\n",
    "- Contratos de dois anos\n",
    "- Ausência de serviços de internet"
   ]
  },
  {
   "cell_type": "markdown",
   "id": "88971c62-8ced-4041-97d9-d8028c40520f",
   "metadata": {},
   "source": [
    "## 3. Classificação (Machine Learning)"
   ]
  },
  {
   "cell_type": "markdown",
   "id": "d9a26dd7-abdb-4c50-a9b3-f844aaaa8efb",
   "metadata": {},
   "source": [
    "### Separando os atributos e a classe a ser determinada"
   ]
  },
  {
   "cell_type": "code",
   "execution_count": 16,
   "id": "dd4b9caa-1447-4174-bdcf-213fec6b060e",
   "metadata": {},
   "outputs": [],
   "source": [
    "df = df.dropna() #necessário após a modificação da coluna 'TotalCharges'\n",
    "X = df.drop('Churn', axis=1)\n",
    "X = pd.get_dummies(X)\n",
    "y = df['Churn']"
   ]
  },
  {
   "cell_type": "markdown",
   "id": "c2e72668-5d4b-4126-be69-755049d48816",
   "metadata": {},
   "source": [
    "**Feito isso, o dataset está pronto para ser separado em treinamento e teste!**"
   ]
  },
  {
   "cell_type": "markdown",
   "id": "55df9c27-d51c-4040-9b00-3b0ad19d52e4",
   "metadata": {},
   "source": [
    "### Separando as bases em treinamento e teste"
   ]
  },
  {
   "cell_type": "code",
   "execution_count": 17,
   "id": "ef4fd60b-03d7-45cb-8687-90fb35274efe",
   "metadata": {},
   "outputs": [],
   "source": [
    "from sklearn.model_selection import train_test_split\n",
    "X_train, X_test, y_train, y_test = train_test_split(X, y, test_size=0.25, random_state=42)"
   ]
  },
  {
   "cell_type": "code",
   "execution_count": 18,
   "id": "10774eb4-b355-414c-a567-a0fa94877685",
   "metadata": {},
   "outputs": [
    {
     "data": {
      "text/plain": [
       "(5274, 1758, 5274, 1758)"
      ]
     },
     "execution_count": 18,
     "metadata": {},
     "output_type": "execute_result"
    }
   ],
   "source": [
    "len(X_train), len(X_test), len(y_train), len(y_test) #observando e comparando o tamanho das bases"
   ]
  },
  {
   "cell_type": "markdown",
   "id": "ceda8550-8f36-4787-bf8a-6202c7bc4b97",
   "metadata": {},
   "source": [
    "### Escalonando os dados com StandardScaler"
   ]
  },
  {
   "cell_type": "code",
   "execution_count": 19,
   "id": "2be645be-a685-46a7-aa5d-707513dba84e",
   "metadata": {},
   "outputs": [],
   "source": [
    "from sklearn.preprocessing import StandardScaler\n",
    "scaler = StandardScaler()"
   ]
  },
  {
   "cell_type": "code",
   "execution_count": 20,
   "id": "ba7af3fc-5506-4b00-9dbb-234dc4e18f5f",
   "metadata": {},
   "outputs": [],
   "source": [
    "X_train = scaler.fit_transform(X_train)\n",
    "X_test = scaler.transform(X_test)"
   ]
  },
  {
   "cell_type": "markdown",
   "id": "cc300dd8-7f0c-4085-bfc8-0d22d361af61",
   "metadata": {},
   "source": [
    "### Testando alguns classificadores\n",
    "\n",
    "Os modelos escolhidos foram:\n",
    "- k-Nearest Neighbors\n",
    "- Regressão Logística\n",
    "- Support Vector Machines\n",
    "- Árvores de Decisão\n",
    "- Random Forest"
   ]
  },
  {
   "cell_type": "code",
   "execution_count": 21,
   "id": "ef09d2d3-369b-4660-8baf-af4c71f8eb4f",
   "metadata": {},
   "outputs": [],
   "source": [
    "from sklearn.neighbors import KNeighborsClassifier\n",
    "from sklearn.linear_model import LogisticRegression\n",
    "from sklearn.svm import SVC\n",
    "from sklearn.tree import DecisionTreeClassifier\n",
    "from sklearn.ensemble import RandomForestClassifier"
   ]
  },
  {
   "cell_type": "code",
   "execution_count": 22,
   "id": "94f1ec72-aaca-4a93-87b4-8643671cb347",
   "metadata": {},
   "outputs": [],
   "source": [
    "model_knn = KNeighborsClassifier()\n",
    "model_lr = LogisticRegression()\n",
    "model_svm = SVC()\n",
    "model_dtree = DecisionTreeClassifier()\n",
    "model_rdfor = RandomForestClassifier()"
   ]
  },
  {
   "cell_type": "code",
   "execution_count": 23,
   "id": "7a4a17e4-b12e-4e8f-ba70-c371c1cb4768",
   "metadata": {},
   "outputs": [],
   "source": [
    "#criando função para avaliar a precisão dos classificadores\n",
    "from sklearn.metrics import accuracy_score\n",
    "def classifier(model):\n",
    "    model.fit(X_train, y_train)\n",
    "    preds = model.predict(X_test)\n",
    "    return accuracy_score(y_test, preds)\n"
   ]
  },
  {
   "cell_type": "code",
   "execution_count": 24,
   "id": "acafb614-3124-49af-bc38-de837b0a8e3c",
   "metadata": {},
   "outputs": [
    {
     "data": {
      "text/plain": [
       "(0.7554038680318543,\n",
       " 0.7901023890784983,\n",
       " 0.7923777019340159,\n",
       " 0.7258248009101251,\n",
       " 0.785551763367463)"
      ]
     },
     "execution_count": 24,
     "metadata": {},
     "output_type": "execute_result"
    }
   ],
   "source": [
    "classifier(model_knn), classifier(model_lr), classifier(model_svm), classifier(model_dtree), classifier(model_rdfor), "
   ]
  },
  {
   "cell_type": "markdown",
   "id": "95e09657-040d-4d0b-8c48-871f6d632cf4",
   "metadata": {},
   "source": [
    "**Após essa análise rápida, dá pra observar que o classificador de Support Vector Machines foi o que se saiu melhor**"
   ]
  },
  {
   "cell_type": "markdown",
   "id": "9b02dc26-49b9-4fa1-9c1c-d6d97f2d0b9a",
   "metadata": {},
   "source": [
    "### Support Vector Machines\n",
    "\n",
    "Agora é necessário testar alguns dos hiperparâmetros para identificar qual se sai melhor"
   ]
  },
  {
   "cell_type": "code",
   "execution_count": 25,
   "id": "570265c4-fbcf-438e-8768-bba7357f8a8e",
   "metadata": {},
   "outputs": [],
   "source": [
    "model1 = SVC(kernel='rbf')\n",
    "model2 = SVC(kernel='poly')\n",
    "model3 = SVC(kernel='sigmoid')\n",
    "model4 = SVC(kernel='linear')"
   ]
  },
  {
   "cell_type": "code",
   "execution_count": 26,
   "id": "3e2bb78f-7719-446b-8408-c852bbdecdad",
   "metadata": {},
   "outputs": [
    {
     "data": {
      "text/plain": [
       "(0.7923777019340159,\n",
       " 0.7872582480091013,\n",
       " 0.7542662116040956,\n",
       " 0.7963594994311718)"
      ]
     },
     "execution_count": 26,
     "metadata": {},
     "output_type": "execute_result"
    }
   ],
   "source": [
    "classifier(model1), classifier(model2), classifier(model3), classifier(model4) "
   ]
  },
  {
   "cell_type": "markdown",
   "id": "6336d6cd-7f4e-4113-bc16-36753cd612fa",
   "metadata": {},
   "source": [
    "**Os kernels que se saíram melhor foram os 'linear' e 'rbf'**"
   ]
  },
  {
   "cell_type": "markdown",
   "id": "cdf1eb72-ebd8-4081-bff6-f64895551fe0",
   "metadata": {},
   "source": [
    "#### GridSearchCV\n",
    "\n",
    "Agora o Grid Search testará combinações diferentes de hiperparâmetros para obter os melhores resultados"
   ]
  },
  {
   "cell_type": "code",
   "execution_count": 27,
   "id": "06b3fa7e-3dbb-4a22-a770-38ccf48913ce",
   "metadata": {},
   "outputs": [],
   "source": [
    "from sklearn.model_selection import GridSearchCV"
   ]
  },
  {
   "cell_type": "code",
   "execution_count": 28,
   "id": "ddbf85cb-6755-435d-b20d-c55da77c620e",
   "metadata": {},
   "outputs": [],
   "source": [
    "final_model = SVC()\n",
    "param_grid = {'C':[0.1,1,10,100],'kernel':['linear','rbf']}\n",
    "grid = GridSearchCV(final_model,param_grid,scoring='accuracy')"
   ]
  },
  {
   "cell_type": "code",
   "execution_count": 29,
   "id": "3b6dd122-2e09-4af1-a1da-a2bb2c2589ea",
   "metadata": {},
   "outputs": [
    {
     "data": {
      "text/plain": [
       "GridSearchCV(estimator=SVC(),\n",
       "             param_grid={'C': [0.1, 1, 10, 100], 'kernel': ['linear', 'rbf']},\n",
       "             scoring='accuracy')"
      ]
     },
     "execution_count": 29,
     "metadata": {},
     "output_type": "execute_result"
    }
   ],
   "source": [
    "grid.fit(X_train, y_train)"
   ]
  },
  {
   "cell_type": "markdown",
   "id": "a67ae8dd-3187-4492-b823-ad2f47114a74",
   "metadata": {},
   "source": [
    "##### Melhores parâmetros do modelo"
   ]
  },
  {
   "cell_type": "code",
   "execution_count": 30,
   "id": "8d8ef982-5927-4443-aadb-539a4fe4cf73",
   "metadata": {},
   "outputs": [
    {
     "data": {
      "text/plain": [
       "{'C': 1, 'kernel': 'linear'}"
      ]
     },
     "execution_count": 30,
     "metadata": {},
     "output_type": "execute_result"
    }
   ],
   "source": [
    "grid.best_params_"
   ]
  },
  {
   "cell_type": "markdown",
   "id": "01d0cade-6cfe-4782-950c-73c3bbec6950",
   "metadata": {},
   "source": [
    "#### Algumas métricas de avaliação\n",
    "\n",
    "Por fim, é preciso validar o modelo com algumas métricas:\n",
    "\n",
    "- Matriz de confusão: Número de classificações corretas e erradas é mostrado\n",
    "- Classification Report: Mostra algumas outras métricas, tal como o accuracy score"
   ]
  },
  {
   "cell_type": "code",
   "execution_count": 31,
   "id": "9c2c476e-f236-41e3-8751-4781635c5cad",
   "metadata": {},
   "outputs": [],
   "source": [
    "from sklearn.metrics import plot_confusion_matrix, classification_report"
   ]
  },
  {
   "cell_type": "code",
   "execution_count": 32,
   "id": "c9f9af6b-b73a-4020-aced-9c8c55cc19f9",
   "metadata": {},
   "outputs": [
    {
     "name": "stderr",
     "output_type": "stream",
     "text": [
      "C:\\Users\\Emerson\\anaconda3\\envs\\tf_py39\\lib\\site-packages\\sklearn\\utils\\deprecation.py:87: FutureWarning: Function plot_confusion_matrix is deprecated; Function `plot_confusion_matrix` is deprecated in 1.0 and will be removed in 1.2. Use one of the class methods: ConfusionMatrixDisplay.from_predictions or ConfusionMatrixDisplay.from_estimator.\n",
      "  warnings.warn(msg, category=FutureWarning)\n"
     ]
    },
    {
     "data": {
      "text/plain": [
       "<sklearn.metrics._plot.confusion_matrix.ConfusionMatrixDisplay at 0x1dca4450b20>"
      ]
     },
     "execution_count": 32,
     "metadata": {},
     "output_type": "execute_result"
    },
    {
     "data": {
      "image/png": "[encoded data removed]",
      "text/plain": [
       "<Figure size 432x288 with 2 Axes>"
      ]
     },
     "metadata": {
      "needs_background": "light"
     },
     "output_type": "display_data"
    }
   ],
   "source": [
    "plot_confusion_matrix(grid,X_test,y_test)"
   ]
  },
  {
   "cell_type": "code",
   "execution_count": 33,
   "id": "e0dc99fe-e05a-444e-a4fe-f75e2f8db88c",
   "metadata": {},
   "outputs": [],
   "source": [
    "y_pred = grid.predict(X_test)"
   ]
  },
  {
   "cell_type": "code",
   "execution_count": 34,
   "id": "93609a59-ce22-401d-a8b3-59f4f3eb2513",
   "metadata": {},
   "outputs": [
    {
     "name": "stdout",
     "output_type": "stream",
     "text": [
      "              precision    recall  f1-score   support\n",
      "\n",
      "          No       0.84      0.89      0.87      1300\n",
      "         Yes       0.63      0.53      0.58       458\n",
      "\n",
      "    accuracy                           0.80      1758\n",
      "   macro avg       0.74      0.71      0.72      1758\n",
      "weighted avg       0.79      0.80      0.79      1758\n",
      "\n"
     ]
    }
   ],
   "source": [
    "print(classification_report(y_test, y_pred))"
   ]
  },
  {
   "cell_type": "markdown",
   "id": "6a682b99-7f28-4734-897e-3a81735b5de6",
   "metadata": {},
   "source": [
    "## 4. Conclusão\n",
    "\n",
    "O modelo de classificação de Support Vector Machines se saiu razoavelmente bem nesta base de dados, com cerca de 80% de precisão.\n",
    "\n",
    "\n",
    "No entanto, mesmo através do GridSearch, não foi possível observar uma melhora tão grande em seu desempenho."
   ]
  }
 ],
 "metadata": {
  "kernelspec": {
   "display_name": "tf_py39",
   "language": "python",
   "name": "tf_py39"
  },
  "language_info": {
   "codemirror_mode": {
    "name": "ipython",
    "version": 3
   },
   "file_extension": ".py",
   "mimetype": "text/x-python",
   "name": "python",
   "nbconvert_exporter": "python",
   "pygments_lexer": "ipython3",
   "version": "3.9.12"
  }
 },
 "nbformat": 4,
 "nbformat_minor": 5
}
