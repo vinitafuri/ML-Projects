{
 "cells": [
  {
   "cell_type": "markdown",
   "id": "8f2fc8f9-b076-469f-95d5-d8f7abb2a3ef",
   "metadata": {},
   "source": [
    "# Emissão de $CO_2$ por veículos\n",
    "\n",
    "O objetivo deste notebook é prever a emissão de $CO_2$ de determinados carros baseados em suas características."
   ]
  },
  {
   "cell_type": "markdown",
   "id": "ed28ae19-2a36-4d53-97cc-1bf6fb42f0a8",
   "metadata": {},
   "source": [
    "## 1. Dados\n",
    "\n",
    "Os dados apresentam diferentes modelos de carros, suas características e emissões de gás carbônico:\n",
    "\n",
    "- Make: Fabricante do carro\n",
    "- Model: Modelo do carro\n",
    "- Vehicle Class: Classe do veículo\n",
    "- Engine Size: Tamanho do motor\n",
    "- Cylinders: Número de cilíndros\n",
    "- Transmission: Tipo de transmissão\n",
    "- Fuel Type: Tipo de Combustível\n",
    "- Fuel Consumption City (L/100 km): Cosumo de combustível na cidade\n",
    "- Fuel Consumption Hwy (L/100 km): Cosumo de Combustível na rodovia\n",
    "- Fuel Consumption Comb (L/100 km: Cosumo de Combustível combinado (55% cidade, 45% rodovia)\n",
    "- Fuel Consumption Comb (mpg): Cosumo de Combustível combinado (em mpg)\n",
    "- CO2 Emissions(g/km): Emissão de gás carbônico\n"
   ]
  },
  {
   "cell_type": "markdown",
   "id": "a348d8aa-4e79-47ce-96da-de7f436c6f55",
   "metadata": {},
   "source": [
    "### 1.1 Importando as bibliotecas"
   ]
  },
  {
   "cell_type": "code",
   "execution_count": 1,
   "id": "b4697774-051d-49f9-80cb-4565f89a8830",
   "metadata": {},
   "outputs": [],
   "source": [
    "import numpy as np #operações matemáticas\n",
    "import pandas as pd #manipulação dos dados\n",
    "import seaborn as sns #gráficos\n",
    "import matplotlib.pyplot as plt #gráficos"
   ]
  },
  {
   "cell_type": "markdown",
   "id": "5085b103-efed-4b1e-9e0a-4e99358ac3ea",
   "metadata": {},
   "source": [
    "### 1.2 O conjunto de dados"
   ]
  },
  {
   "cell_type": "markdown",
   "id": "71afd3d8-bd9a-4844-ad88-228ca565c269",
   "metadata": {},
   "source": [
    "Importando os dados"
   ]
  },
  {
   "cell_type": "code",
   "execution_count": 2,
   "id": "f44b9dd9-07b9-4967-a089-6165d2833374",
   "metadata": {},
   "outputs": [],
   "source": [
    "df = pd.read_csv('CO2 Emissions_Canada.csv')"
   ]
  },
  {
   "cell_type": "markdown",
   "id": "64b638a4-197a-4d99-907e-3c0ca54bfd8e",
   "metadata": {},
   "source": [
    "Visualizando parte do dataframe"
   ]
  },
  {
   "cell_type": "code",
   "execution_count": 3,
   "id": "0fe0c0e9-af70-44dd-9796-8c4458585ac1",
   "metadata": {},
   "outputs": [
    {
     "data": {
      "text/html": [
       "<div>\n",
       "<style scoped>\n",
       "    .dataframe tbody tr th:only-of-type {\n",
       "        vertical-align: middle;\n",
       "    }\n",
       "\n",
       "    .dataframe tbody tr th {\n",
       "        vertical-align: top;\n",
       "    }\n",
       "\n",
       "    .dataframe thead th {\n",
       "        text-align: right;\n",
       "    }\n",
       "</style>\n",
       "<table border=\"1\" class=\"dataframe\">\n",
       "  <thead>\n",
       "    <tr style=\"text-align: right;\">\n",
       "      <th></th>\n",
       "      <th>Make</th>\n",
       "      <th>Model</th>\n",
       "      <th>Vehicle Class</th>\n",
       "      <th>Engine Size(L)</th>\n",
       "      <th>Cylinders</th>\n",
       "      <th>Transmission</th>\n",
       "      <th>Fuel Type</th>\n",
       "      <th>Fuel Consumption City (L/100 km)</th>\n",
       "      <th>Fuel Consumption Hwy (L/100 km)</th>\n",
       "      <th>Fuel Consumption Comb (L/100 km)</th>\n",
       "      <th>Fuel Consumption Comb (mpg)</th>\n",
       "      <th>CO2 Emissions(g/km)</th>\n",
       "    </tr>\n",
       "  </thead>\n",
       "  <tbody>\n",
       "    <tr>\n",
       "      <th>0</th>\n",
       "      <td>ACURA</td>\n",
       "      <td>ILX</td>\n",
       "      <td>COMPACT</td>\n",
       "      <td>2.0</td>\n",
       "      <td>4</td>\n",
       "      <td>AS5</td>\n",
       "      <td>Z</td>\n",
       "      <td>9.9</td>\n",
       "      <td>6.7</td>\n",
       "      <td>8.5</td>\n",
       "      <td>33</td>\n",
       "      <td>196</td>\n",
       "    </tr>\n",
       "    <tr>\n",
       "      <th>1</th>\n",
       "      <td>ACURA</td>\n",
       "      <td>ILX</td>\n",
       "      <td>COMPACT</td>\n",
       "      <td>2.4</td>\n",
       "      <td>4</td>\n",
       "      <td>M6</td>\n",
       "      <td>Z</td>\n",
       "      <td>11.2</td>\n",
       "      <td>7.7</td>\n",
       "      <td>9.6</td>\n",
       "      <td>29</td>\n",
       "      <td>221</td>\n",
       "    </tr>\n",
       "    <tr>\n",
       "      <th>2</th>\n",
       "      <td>ACURA</td>\n",
       "      <td>ILX HYBRID</td>\n",
       "      <td>COMPACT</td>\n",
       "      <td>1.5</td>\n",
       "      <td>4</td>\n",
       "      <td>AV7</td>\n",
       "      <td>Z</td>\n",
       "      <td>6.0</td>\n",
       "      <td>5.8</td>\n",
       "      <td>5.9</td>\n",
       "      <td>48</td>\n",
       "      <td>136</td>\n",
       "    </tr>\n",
       "    <tr>\n",
       "      <th>3</th>\n",
       "      <td>ACURA</td>\n",
       "      <td>MDX 4WD</td>\n",
       "      <td>SUV - SMALL</td>\n",
       "      <td>3.5</td>\n",
       "      <td>6</td>\n",
       "      <td>AS6</td>\n",
       "      <td>Z</td>\n",
       "      <td>12.7</td>\n",
       "      <td>9.1</td>\n",
       "      <td>11.1</td>\n",
       "      <td>25</td>\n",
       "      <td>255</td>\n",
       "    </tr>\n",
       "    <tr>\n",
       "      <th>4</th>\n",
       "      <td>ACURA</td>\n",
       "      <td>RDX AWD</td>\n",
       "      <td>SUV - SMALL</td>\n",
       "      <td>3.5</td>\n",
       "      <td>6</td>\n",
       "      <td>AS6</td>\n",
       "      <td>Z</td>\n",
       "      <td>12.1</td>\n",
       "      <td>8.7</td>\n",
       "      <td>10.6</td>\n",
       "      <td>27</td>\n",
       "      <td>244</td>\n",
       "    </tr>\n",
       "  </tbody>\n",
       "</table>\n",
       "</div>"
      ],
      "text/plain": [
       "    Make       Model Vehicle Class  Engine Size(L)  Cylinders Transmission  \\\n",
       "0  ACURA         ILX       COMPACT             2.0          4          AS5   \n",
       "1  ACURA         ILX       COMPACT             2.4          4           M6   \n",
       "2  ACURA  ILX HYBRID       COMPACT             1.5          4          AV7   \n",
       "3  ACURA     MDX 4WD   SUV - SMALL             3.5          6          AS6   \n",
       "4  ACURA     RDX AWD   SUV - SMALL             3.5          6          AS6   \n",
       "\n",
       "  Fuel Type  Fuel Consumption City (L/100 km)  \\\n",
       "0         Z                               9.9   \n",
       "1         Z                              11.2   \n",
       "2         Z                               6.0   \n",
       "3         Z                              12.7   \n",
       "4         Z                              12.1   \n",
       "\n",
       "   Fuel Consumption Hwy (L/100 km)  Fuel Consumption Comb (L/100 km)  \\\n",
       "0                              6.7                               8.5   \n",
       "1                              7.7                               9.6   \n",
       "2                              5.8                               5.9   \n",
       "3                              9.1                              11.1   \n",
       "4                              8.7                              10.6   \n",
       "\n",
       "   Fuel Consumption Comb (mpg)  CO2 Emissions(g/km)  \n",
       "0                           33                  196  \n",
       "1                           29                  221  \n",
       "2                           48                  136  \n",
       "3                           25                  255  \n",
       "4                           27                  244  "
      ]
     },
     "execution_count": 3,
     "metadata": {},
     "output_type": "execute_result"
    }
   ],
   "source": [
    "df.head()"
   ]
  },
  {
   "cell_type": "markdown",
   "id": "dd66463c-e1b0-474b-9c51-9bdf02946223",
   "metadata": {},
   "source": [
    "Visualizando algumas informações."
   ]
  },
  {
   "cell_type": "code",
   "execution_count": 4,
   "id": "e0115492-767c-4703-aa36-a4a04e1c085e",
   "metadata": {},
   "outputs": [
    {
     "name": "stdout",
     "output_type": "stream",
     "text": [
      "<class 'pandas.core.frame.DataFrame'>\n",
      "RangeIndex: 7385 entries, 0 to 7384\n",
      "Data columns (total 12 columns):\n",
      " #   Column                            Non-Null Count  Dtype  \n",
      "---  ------                            --------------  -----  \n",
      " 0   Make                              7385 non-null   object \n",
      " 1   Model                             7385 non-null   object \n",
      " 2   Vehicle Class                     7385 non-null   object \n",
      " 3   Engine Size(L)                    7385 non-null   float64\n",
      " 4   Cylinders                         7385 non-null   int64  \n",
      " 5   Transmission                      7385 non-null   object \n",
      " 6   Fuel Type                         7385 non-null   object \n",
      " 7   Fuel Consumption City (L/100 km)  7385 non-null   float64\n",
      " 8   Fuel Consumption Hwy (L/100 km)   7385 non-null   float64\n",
      " 9   Fuel Consumption Comb (L/100 km)  7385 non-null   float64\n",
      " 10  Fuel Consumption Comb (mpg)       7385 non-null   int64  \n",
      " 11  CO2 Emissions(g/km)               7385 non-null   int64  \n",
      "dtypes: float64(4), int64(3), object(5)\n",
      "memory usage: 692.5+ KB\n"
     ]
    }
   ],
   "source": [
    "df.info()"
   ]
  },
  {
   "cell_type": "markdown",
   "id": "afa17ac5-a557-4ee2-8cee-e39cab4673a1",
   "metadata": {},
   "source": [
    "Os dados apresentam 7 colunas numéricas e 5 colunas de texto"
   ]
  },
  {
   "cell_type": "markdown",
   "id": "52a05c3b-be6c-4f58-9c27-5dd8df13f82b",
   "metadata": {},
   "source": [
    "Verificando a presença de valores nulos"
   ]
  },
  {
   "cell_type": "code",
   "execution_count": 5,
   "id": "26225735-9aef-407b-991b-a55b656f087b",
   "metadata": {},
   "outputs": [
    {
     "data": {
      "text/plain": [
       "Make                                0\n",
       "Model                               0\n",
       "Vehicle Class                       0\n",
       "Engine Size(L)                      0\n",
       "Cylinders                           0\n",
       "Transmission                        0\n",
       "Fuel Type                           0\n",
       "Fuel Consumption City (L/100 km)    0\n",
       "Fuel Consumption Hwy (L/100 km)     0\n",
       "Fuel Consumption Comb (L/100 km)    0\n",
       "Fuel Consumption Comb (mpg)         0\n",
       "CO2 Emissions(g/km)                 0\n",
       "dtype: int64"
      ]
     },
     "execution_count": 5,
     "metadata": {},
     "output_type": "execute_result"
    }
   ],
   "source": [
    "df.isna().sum()"
   ]
  },
  {
   "cell_type": "markdown",
   "id": "a2fd42c6-4d7a-400d-98eb-ccd8898f0f99",
   "metadata": {},
   "source": [
    "Verificando algumas estatísticas acerca dos dados"
   ]
  },
  {
   "cell_type": "code",
   "execution_count": 6,
   "id": "4943698c-385c-4433-9d30-d96aee7097c2",
   "metadata": {},
   "outputs": [
    {
     "data": {
      "text/html": [
       "<div>\n",
       "<style scoped>\n",
       "    .dataframe tbody tr th:only-of-type {\n",
       "        vertical-align: middle;\n",
       "    }\n",
       "\n",
       "    .dataframe tbody tr th {\n",
       "        vertical-align: top;\n",
       "    }\n",
       "\n",
       "    .dataframe thead th {\n",
       "        text-align: right;\n",
       "    }\n",
       "</style>\n",
       "<table border=\"1\" class=\"dataframe\">\n",
       "  <thead>\n",
       "    <tr style=\"text-align: right;\">\n",
       "      <th></th>\n",
       "      <th>count</th>\n",
       "      <th>mean</th>\n",
       "      <th>std</th>\n",
       "      <th>min</th>\n",
       "      <th>25%</th>\n",
       "      <th>50%</th>\n",
       "      <th>75%</th>\n",
       "      <th>max</th>\n",
       "    </tr>\n",
       "  </thead>\n",
       "  <tbody>\n",
       "    <tr>\n",
       "      <th>Engine Size(L)</th>\n",
       "      <td>7385.0</td>\n",
       "      <td>3.160068</td>\n",
       "      <td>1.354170</td>\n",
       "      <td>0.9</td>\n",
       "      <td>2.0</td>\n",
       "      <td>3.0</td>\n",
       "      <td>3.7</td>\n",
       "      <td>8.4</td>\n",
       "    </tr>\n",
       "    <tr>\n",
       "      <th>Cylinders</th>\n",
       "      <td>7385.0</td>\n",
       "      <td>5.615030</td>\n",
       "      <td>1.828307</td>\n",
       "      <td>3.0</td>\n",
       "      <td>4.0</td>\n",
       "      <td>6.0</td>\n",
       "      <td>6.0</td>\n",
       "      <td>16.0</td>\n",
       "    </tr>\n",
       "    <tr>\n",
       "      <th>Fuel Consumption City (L/100 km)</th>\n",
       "      <td>7385.0</td>\n",
       "      <td>12.556534</td>\n",
       "      <td>3.500274</td>\n",
       "      <td>4.2</td>\n",
       "      <td>10.1</td>\n",
       "      <td>12.1</td>\n",
       "      <td>14.6</td>\n",
       "      <td>30.6</td>\n",
       "    </tr>\n",
       "    <tr>\n",
       "      <th>Fuel Consumption Hwy (L/100 km)</th>\n",
       "      <td>7385.0</td>\n",
       "      <td>9.041706</td>\n",
       "      <td>2.224456</td>\n",
       "      <td>4.0</td>\n",
       "      <td>7.5</td>\n",
       "      <td>8.7</td>\n",
       "      <td>10.2</td>\n",
       "      <td>20.6</td>\n",
       "    </tr>\n",
       "    <tr>\n",
       "      <th>Fuel Consumption Comb (L/100 km)</th>\n",
       "      <td>7385.0</td>\n",
       "      <td>10.975071</td>\n",
       "      <td>2.892506</td>\n",
       "      <td>4.1</td>\n",
       "      <td>8.9</td>\n",
       "      <td>10.6</td>\n",
       "      <td>12.6</td>\n",
       "      <td>26.1</td>\n",
       "    </tr>\n",
       "    <tr>\n",
       "      <th>Fuel Consumption Comb (mpg)</th>\n",
       "      <td>7385.0</td>\n",
       "      <td>27.481652</td>\n",
       "      <td>7.231879</td>\n",
       "      <td>11.0</td>\n",
       "      <td>22.0</td>\n",
       "      <td>27.0</td>\n",
       "      <td>32.0</td>\n",
       "      <td>69.0</td>\n",
       "    </tr>\n",
       "    <tr>\n",
       "      <th>CO2 Emissions(g/km)</th>\n",
       "      <td>7385.0</td>\n",
       "      <td>250.584699</td>\n",
       "      <td>58.512679</td>\n",
       "      <td>96.0</td>\n",
       "      <td>208.0</td>\n",
       "      <td>246.0</td>\n",
       "      <td>288.0</td>\n",
       "      <td>522.0</td>\n",
       "    </tr>\n",
       "  </tbody>\n",
       "</table>\n",
       "</div>"
      ],
      "text/plain": [
       "                                   count        mean        std   min    25%  \\\n",
       "Engine Size(L)                    7385.0    3.160068   1.354170   0.9    2.0   \n",
       "Cylinders                         7385.0    5.615030   1.828307   3.0    4.0   \n",
       "Fuel Consumption City (L/100 km)  7385.0   12.556534   3.500274   4.2   10.1   \n",
       "Fuel Consumption Hwy (L/100 km)   7385.0    9.041706   2.224456   4.0    7.5   \n",
       "Fuel Consumption Comb (L/100 km)  7385.0   10.975071   2.892506   4.1    8.9   \n",
       "Fuel Consumption Comb (mpg)       7385.0   27.481652   7.231879  11.0   22.0   \n",
       "CO2 Emissions(g/km)               7385.0  250.584699  58.512679  96.0  208.0   \n",
       "\n",
       "                                    50%    75%    max  \n",
       "Engine Size(L)                      3.0    3.7    8.4  \n",
       "Cylinders                           6.0    6.0   16.0  \n",
       "Fuel Consumption City (L/100 km)   12.1   14.6   30.6  \n",
       "Fuel Consumption Hwy (L/100 km)     8.7   10.2   20.6  \n",
       "Fuel Consumption Comb (L/100 km)   10.6   12.6   26.1  \n",
       "Fuel Consumption Comb (mpg)        27.0   32.0   69.0  \n",
       "CO2 Emissions(g/km)               246.0  288.0  522.0  "
      ]
     },
     "execution_count": 6,
     "metadata": {},
     "output_type": "execute_result"
    }
   ],
   "source": [
    "df.describe().T"
   ]
  },
  {
   "cell_type": "markdown",
   "id": "25c7d0d8-8e6a-4995-a997-a6dc02d3c5c9",
   "metadata": {},
   "source": [
    "A coluna de emissão apresenta alguns valores discrepantes (outliers), para verificá-los, é possível fazer um boxplot:"
   ]
  },
  {
   "cell_type": "code",
   "execution_count": 7,
   "id": "916bbbaf-0f1c-4c2e-a842-dca5fefa7642",
   "metadata": {},
   "outputs": [
    {
     "data": {
      "text/plain": [
       "<AxesSubplot:xlabel='CO2 Emissions(g/km)'>"
      ]
     },
     "execution_count": 7,
     "metadata": {},
     "output_type": "execute_result"
    },
    {
     "data": {
      "image/png": "[encoded data removed]",
      "text/plain": [
       "<Figure size 432x288 with 1 Axes>"
      ]
     },
     "metadata": {
      "needs_background": "light"
     },
     "output_type": "display_data"
    }
   ],
   "source": [
    "sns.boxplot(data=df, x=df.columns[11])"
   ]
  },
  {
   "cell_type": "markdown",
   "id": "8ef27a91-d4e3-4ad2-81a1-64eb41628853",
   "metadata": {},
   "source": [
    "Para este dataset, escolheremos apenas valores menores que 450 g/km para evitar muitos outliers."
   ]
  },
  {
   "cell_type": "code",
   "execution_count": 8,
   "id": "a4fdc5c9-4318-4f97-bf19-acfa74a7e366",
   "metadata": {},
   "outputs": [
    {
     "data": {
      "text/plain": [
       "True     7362\n",
       "False      23\n",
       "Name: CO2 Emissions(g/km), dtype: int64"
      ]
     },
     "execution_count": 8,
     "metadata": {},
     "output_type": "execute_result"
    }
   ],
   "source": [
    "(df[df.columns[11]] < 450).value_counts() #verificando a quantidade de valores nesse intervalo"
   ]
  },
  {
   "cell_type": "markdown",
   "id": "42a5c00f-71f8-4420-8136-e467b5348b8d",
   "metadata": {},
   "source": [
    "Gerando o novo dataset:"
   ]
  },
  {
   "cell_type": "code",
   "execution_count": 9,
   "id": "9a60b68a-6fee-48a2-b803-c36b93596401",
   "metadata": {},
   "outputs": [],
   "source": [
    "df = df[df[df.columns[11]] < 450]"
   ]
  },
  {
   "cell_type": "markdown",
   "id": "cd2bc57d-d015-46be-9e5f-7abe68c6c331",
   "metadata": {},
   "source": [
    "Fazendo novamente o boxplot:"
   ]
  },
  {
   "cell_type": "code",
   "execution_count": 10,
   "id": "2b697010-aaf6-4b47-bd00-94c724c19c7b",
   "metadata": {},
   "outputs": [
    {
     "data": {
      "text/plain": [
       "<AxesSubplot:xlabel='CO2 Emissions(g/km)'>"
      ]
     },
     "execution_count": 10,
     "metadata": {},
     "output_type": "execute_result"
    },
    {
     "data": {
      "image/png": "[encoded data removed]",
      "text/plain": [
       "<Figure size 432x288 with 1 Axes>"
      ]
     },
     "metadata": {
      "needs_background": "light"
     },
     "output_type": "display_data"
    }
   ],
   "source": [
    "sns.boxplot(data=df, x=df.columns[11])"
   ]
  },
  {
   "cell_type": "markdown",
   "id": "6498e903-b515-4f0f-9dd7-a67a62ead94a",
   "metadata": {},
   "source": [
    "Os outliers muito discrepantes foram removidos!"
   ]
  },
  {
   "cell_type": "markdown",
   "id": "b308dff5-6b92-486b-8a8e-364bcdf0c260",
   "metadata": {},
   "source": [
    "## 2. Análise Exploratória de Dados\n",
    "\n",
    "Para analisar os dados, é necessário verificar a influência de cada atributo nas emissões"
   ]
  },
  {
   "cell_type": "markdown",
   "id": "5adbd0e2-a26f-4bc1-873e-72eb0cd186a5",
   "metadata": {},
   "source": [
    "### 2.1 Marca\n",
    "\n",
    "Fabricante dos carros"
   ]
  },
  {
   "cell_type": "markdown",
   "id": "1c8fdfd7-b4a0-4554-b829-bfc7dae47bc5",
   "metadata": {},
   "source": [
    "Aqui são mostradas as diferentes marcas contidas no dataset"
   ]
  },
  {
   "cell_type": "code",
   "execution_count": 11,
   "id": "f20544e8-838b-4397-aa46-a20ff68f18de",
   "metadata": {},
   "outputs": [
    {
     "data": {
      "text/plain": [
       "FORD             627\n",
       "CHEVROLET        587\n",
       "BMW              527\n",
       "MERCEDES-BENZ    416\n",
       "PORSCHE          376\n",
       "TOYOTA           330\n",
       "GMC              327\n",
       "AUDI             286\n",
       "NISSAN           259\n",
       "JEEP             251\n",
       "DODGE            246\n",
       "KIA              231\n",
       "HONDA            214\n",
       "HYUNDAI          210\n",
       "MINI             204\n",
       "VOLKSWAGEN       197\n",
       "MAZDA            180\n",
       "LEXUS            178\n",
       "JAGUAR           160\n",
       "CADILLAC         158\n",
       "SUBARU           140\n",
       "VOLVO            124\n",
       "INFINITI         108\n",
       "BUICK            103\n",
       "RAM               97\n",
       "LINCOLN           96\n",
       "MITSUBISHI        95\n",
       "CHRYSLER          88\n",
       "LAND ROVER        85\n",
       "FIAT              73\n",
       "ACURA             72\n",
       "MASERATI          61\n",
       "ROLLS-ROYCE       50\n",
       "ASTON MARTIN      46\n",
       "BENTLEY           45\n",
       "ALFA ROMEO        30\n",
       "LAMBORGHINI       29\n",
       "GENESIS           25\n",
       "SCION             22\n",
       "SMART              7\n",
       "SRT                2\n",
       "Name: Make, dtype: int64"
      ]
     },
     "execution_count": 11,
     "metadata": {},
     "output_type": "execute_result"
    }
   ],
   "source": [
    "df['Make'].value_counts()"
   ]
  },
  {
   "cell_type": "markdown",
   "id": "1eac946b-822c-457d-aa4a-2f5046ed67b3",
   "metadata": {},
   "source": [
    "Agora, as marcas serão ordenadas por média de emissão de gás carbônico:"
   ]
  },
  {
   "cell_type": "code",
   "execution_count": 12,
   "id": "df30e654-adc3-42d0-95dd-261cf85410fb",
   "metadata": {},
   "outputs": [
    {
     "data": {
      "text/plain": [
       "Make\n",
       "SRT              389.000000\n",
       "ROLLS-ROYCE      388.480000\n",
       "LAMBORGHINI      372.793103\n",
       "BENTLEY          360.666667\n",
       "ASTON MARTIN     337.217391\n",
       "MASERATI         318.147541\n",
       "GMC              299.412844\n",
       "RAM              292.402062\n",
       "LAND ROVER       287.647059\n",
       "GENESIS          284.840000\n",
       "DODGE            276.361789\n",
       "MERCEDES-BENZ    275.983173\n",
       "JAGUAR           267.987500\n",
       "LINCOLN          267.302083\n",
       "CADILLAC         265.854430\n",
       "CHEVROLET        264.005111\n",
       "FORD             260.626794\n",
       "PORSCHE          258.941489\n",
       "INFINITI         254.064815\n",
       "BMW              254.007590\n",
       "AUDI             250.846154\n",
       "JEEP             250.342629\n",
       "CHRYSLER         246.170455\n",
       "LEXUS            241.112360\n",
       "NISSAN           236.864865\n",
       "BUICK            233.058252\n",
       "VOLVO            230.056452\n",
       "ALFA ROMEO       224.900000\n",
       "TOYOTA           224.424242\n",
       "ACURA            223.652778\n",
       "SUBARU           217.614286\n",
       "KIA              214.294372\n",
       "VOLKSWAGEN       209.335025\n",
       "HYUNDAI          208.871429\n",
       "MITSUBISHI       200.505263\n",
       "SCION            200.454545\n",
       "MINI             196.588235\n",
       "MAZDA            193.672222\n",
       "FIAT             192.246575\n",
       "HONDA            190.219626\n",
       "SMART            151.428571\n",
       "Name: CO2 Emissions(g/km), dtype: float64"
      ]
     },
     "execution_count": 12,
     "metadata": {},
     "output_type": "execute_result"
    }
   ],
   "source": [
    "df.groupby(df.columns[0]).mean()[df.columns[11]].sort_values(ascending=False)"
   ]
  },
  {
   "cell_type": "markdown",
   "id": "a8803763-5c02-453a-879b-4a7dbc1921d7",
   "metadata": {},
   "source": [
    "Visualizando isto graficamente, temos os 5 maiores e os 5 menores emissores:"
   ]
  },
  {
   "cell_type": "code",
   "execution_count": 13,
   "id": "bc704520-ce52-4128-b93a-ac4cdeb6118d",
   "metadata": {},
   "outputs": [
    {
     "data": {
      "text/plain": [
       "Text(0.5, 0, 'CO2 Emissions (g/km)')"
      ]
     },
     "execution_count": 13,
     "metadata": {},
     "output_type": "execute_result"
    },
    {
     "data": {
      "image/png": "[encoded data removed]",
      "text/plain": [
       "<Figure size 432x288 with 1 Axes>"
      ]
     },
     "metadata": {
      "needs_background": "light"
     },
     "output_type": "display_data"
    }
   ],
   "source": [
    "sns.barplot(x=df.groupby(df.columns[0]).mean()[df.columns[11]].sort_values(ascending=False).nlargest(5).values,\n",
    "            y=df.groupby(df.columns[0]).mean()[df.columns[11]].sort_values(ascending=False).nlargest(5).index)\n",
    "plt.xlabel('CO2 Emissions (g/km)')"
   ]
  },
  {
   "cell_type": "code",
   "execution_count": 14,
   "id": "67134ac7-68f0-415a-8ec4-aa96248be00e",
   "metadata": {},
   "outputs": [
    {
     "data": {
      "text/plain": [
       "Text(0.5, 0, 'CO2 Emissions (g/km)')"
      ]
     },
     "execution_count": 14,
     "metadata": {},
     "output_type": "execute_result"
    },
    {
     "data": {
      "image/png": "[encoded data removed]",
      "text/plain": [
       "<Figure size 432x288 with 1 Axes>"
      ]
     },
     "metadata": {
      "needs_background": "light"
     },
     "output_type": "display_data"
    }
   ],
   "source": [
    "sns.barplot(x=df.groupby(df.columns[0]).mean()[df.columns[11]].sort_values(ascending=True).nsmallest(5).values,\n",
    "            y=df.groupby(df.columns[0]).mean()[df.columns[11]].sort_values(ascending=True).nsmallest(5).index)\n",
    "plt.xlabel('CO2 Emissions (g/km)')"
   ]
  },
  {
   "cell_type": "markdown",
   "id": "62e1e9d6-41b2-4314-8420-972e34755279",
   "metadata": {},
   "source": [
    "### 2.2 Modelo\n",
    "\n",
    "Modelo dos carros"
   ]
  },
  {
   "cell_type": "markdown",
   "id": "d43d5a60-8bcb-4603-a022-23bb2376ee20",
   "metadata": {},
   "source": [
    "Em procedimento análogo ao anterior, verificaremos os modelos mais emissores e menos emissores:"
   ]
  },
  {
   "cell_type": "code",
   "execution_count": 15,
   "id": "125b9f3c-12e6-49e0-aaac-d1078ed73260",
   "metadata": {},
   "outputs": [
    {
     "data": {
      "text/plain": [
       "F-150 FFV              32\n",
       "F-150 FFV 4X4          32\n",
       "MUSTANG                27\n",
       "FOCUS FFV              24\n",
       "F-150 4X4              20\n",
       "                       ..\n",
       "PANAMERA 4S ST          1\n",
       "PANAMERA TURBO ST       1\n",
       "WRX STI AWD TYPE RA     1\n",
       "CAMRY LE/SE             1\n",
       "XC40 T4 AWD             1\n",
       "Name: Model, Length: 2042, dtype: int64"
      ]
     },
     "execution_count": 15,
     "metadata": {},
     "output_type": "execute_result"
    }
   ],
   "source": [
    "df['Model'].value_counts()"
   ]
  },
  {
   "cell_type": "code",
   "execution_count": 16,
   "id": "73cce4bf-7db5-40e2-9b39-3e8cea582463",
   "metadata": {},
   "outputs": [
    {
     "data": {
      "text/plain": [
       "Text(0.5, 0, 'CO2 Emissions (g/km)')"
      ]
     },
     "execution_count": 16,
     "metadata": {},
     "output_type": "execute_result"
    },
    {
     "data": {
      "image/png": "[encoded data removed]",
      "text/plain": [
       "<Figure size 432x288 with 1 Axes>"
      ]
     },
     "metadata": {
      "needs_background": "light"
     },
     "output_type": "display_data"
    }
   ],
   "source": [
    "sns.barplot(x=df.groupby(df.columns[1]).mean()[df.columns[11]].sort_values(ascending=False).nlargest(10).values,\n",
    "            y=df.groupby(df.columns[1]).mean()[df.columns[11]].sort_values(ascending=False).nlargest(10).index)\n",
    "plt.xlabel('CO2 Emissions (g/km)')"
   ]
  },
  {
   "cell_type": "code",
   "execution_count": 17,
   "id": "66b219cb-2578-4dc4-b572-a7e12dcaee04",
   "metadata": {},
   "outputs": [
    {
     "data": {
      "text/plain": [
       "Text(0.5, 0, 'CO2 Emissions (g/km)')"
      ]
     },
     "execution_count": 17,
     "metadata": {},
     "output_type": "execute_result"
    },
    {
     "data": {
      "image/png": "[encoded data removed]",
      "text/plain": [
       "<Figure size 432x288 with 1 Axes>"
      ]
     },
     "metadata": {
      "needs_background": "light"
     },
     "output_type": "display_data"
    }
   ],
   "source": [
    "sns.barplot(x=df.groupby(df.columns[1]).mean()[df.columns[11]].sort_values(ascending=True).nsmallest(10).values,\n",
    "            y=df.groupby(df.columns[1]).mean()[df.columns[11]].sort_values(ascending=True).nsmallest(10).index)\n",
    "plt.xlabel('CO2 Emissions (g/km)')"
   ]
  },
  {
   "cell_type": "markdown",
   "id": "004ed719-f356-4211-85de-b1ac476fe742",
   "metadata": {},
   "source": [
    "### 2.3 Classe dos veículos"
   ]
  },
  {
   "cell_type": "markdown",
   "id": "bd6a3b53-fe7b-4059-b353-ce1328b3fb16",
   "metadata": {},
   "source": [
    "Novamente, verificaremos os maiores e menores emissores, agora, por classe de veículo (como SUV, compacto, caminhonete, entre outros)"
   ]
  },
  {
   "cell_type": "code",
   "execution_count": 18,
   "id": "455db026-2eeb-4194-89de-8eb7784e0d23",
   "metadata": {},
   "outputs": [
    {
     "data": {
      "text/plain": [
       "SUV - SMALL                 1217\n",
       "MID-SIZE                    1132\n",
       "COMPACT                     1022\n",
       "SUV - STANDARD               732\n",
       "FULL-SIZE                    639\n",
       "SUBCOMPACT                   606\n",
       "PICKUP TRUCK - STANDARD      538\n",
       "TWO-SEATER                   444\n",
       "MINICOMPACT                  326\n",
       "STATION WAGON - SMALL        252\n",
       "PICKUP TRUCK - SMALL         159\n",
       "MINIVAN                       80\n",
       "SPECIAL PURPOSE VEHICLE       77\n",
       "VAN - PASSENGER               63\n",
       "STATION WAGON - MID-SIZE      53\n",
       "VAN - CARGO                   22\n",
       "Name: Vehicle Class, dtype: int64"
      ]
     },
     "execution_count": 18,
     "metadata": {},
     "output_type": "execute_result"
    }
   ],
   "source": [
    "df['Vehicle Class'].value_counts()"
   ]
  },
  {
   "cell_type": "code",
   "execution_count": 19,
   "id": "04cb070b-f70d-4094-acf7-8bfc28aaf874",
   "metadata": {},
   "outputs": [
    {
     "data": {
      "text/plain": [
       "Text(0.5, 0, 'CO2 Emissions (g/km)')"
      ]
     },
     "execution_count": 19,
     "metadata": {},
     "output_type": "execute_result"
    },
    {
     "data": {
      "image/png": "[encoded data removed]",
      "text/plain": [
       "<Figure size 432x288 with 1 Axes>"
      ]
     },
     "metadata": {
      "needs_background": "light"
     },
     "output_type": "display_data"
    }
   ],
   "source": [
    "sns.barplot(x=df.groupby(df.columns[2]).mean()[df.columns[11]].sort_values(ascending=False).nlargest(10).values,\n",
    "            y=df.groupby(df.columns[2]).mean()[df.columns[11]].sort_values(ascending=False).nlargest(10).index)\n",
    "plt.xlabel('CO2 Emissions (g/km)')"
   ]
  },
  {
   "cell_type": "code",
   "execution_count": 20,
   "id": "b11e85a5-afdb-4d76-8ec8-e0986ca39e21",
   "metadata": {},
   "outputs": [
    {
     "data": {
      "text/plain": [
       "Text(0.5, 0, 'CO2 Emissions (g/km)')"
      ]
     },
     "execution_count": 20,
     "metadata": {},
     "output_type": "execute_result"
    },
    {
     "data": {
      "image/png": "[encoded data removed]",
      "text/plain": [
       "<Figure size 432x288 with 1 Axes>"
      ]
     },
     "metadata": {
      "needs_background": "light"
     },
     "output_type": "display_data"
    }
   ],
   "source": [
    "sns.barplot(x=df.groupby(df.columns[2]).mean()[df.columns[11]].sort_values(ascending=True).nsmallest(10).values,\n",
    "            y=df.groupby(df.columns[2]).mean()[df.columns[11]].sort_values(ascending=True).nsmallest(10).index)\n",
    "plt.xlabel('CO2 Emissions (g/km)')"
   ]
  },
  {
   "cell_type": "markdown",
   "id": "5bec1d0b-25eb-471c-af02-58563f23f1dd",
   "metadata": {},
   "source": [
    "### 2.4 Tamanho do motor"
   ]
  },
  {
   "cell_type": "markdown",
   "id": "93dd9454-91fb-462c-8ac6-3a642b8e8e71",
   "metadata": {},
   "source": [
    "Agora, será verificada a influência do tamanho do motor:"
   ]
  },
  {
   "cell_type": "code",
   "execution_count": 21,
   "id": "6b5cb017-101b-4092-a059-d16f0ba3b925",
   "metadata": {},
   "outputs": [
    {
     "data": {
      "text/plain": [
       "2.0    1460\n",
       "3.0     804\n",
       "3.6     536\n",
       "3.5     529\n",
       "2.5     423\n",
       "2.4     346\n",
       "1.6     302\n",
       "5.3     290\n",
       "1.8     216\n",
       "1.4     211\n",
       "5.0     207\n",
       "1.5     207\n",
       "4.0     198\n",
       "6.2     162\n",
       "4.4     131\n",
       "5.7     116\n",
       "3.8     114\n",
       "3.7     112\n",
       "2.7      99\n",
       "6.0      88\n",
       "3.3      85\n",
       "4.7      78\n",
       "3.4      52\n",
       "5.5      52\n",
       "4.3      52\n",
       "2.3      51\n",
       "5.2      48\n",
       "6.4      46\n",
       "5.6      36\n",
       "3.2      35\n",
       "4.8      32\n",
       "4.6      32\n",
       "6.6      29\n",
       "1.2      25\n",
       "6.7      25\n",
       "2.8      24\n",
       "2.9      23\n",
       "1.0      18\n",
       "4.2      14\n",
       "1.3      11\n",
       "5.4       8\n",
       "6.8       6\n",
       "6.5       6\n",
       "2.1       5\n",
       "8.4       5\n",
       "5.9       5\n",
       "6.3       3\n",
       "0.9       3\n",
       "5.8       1\n",
       "2.2       1\n",
       "Name: Engine Size(L), dtype: int64"
      ]
     },
     "execution_count": 21,
     "metadata": {},
     "output_type": "execute_result"
    }
   ],
   "source": [
    "df[df.columns[3]].value_counts()"
   ]
  },
  {
   "cell_type": "code",
   "execution_count": 22,
   "id": "8492f625-d216-49b7-9c1f-cba6a24ea2b0",
   "metadata": {},
   "outputs": [
    {
     "data": {
      "text/plain": [
       "Text(0.5, 0, 'CO2 Emissions (g/km)')"
      ]
     },
     "execution_count": 22,
     "metadata": {},
     "output_type": "execute_result"
    },
    {
     "data": {
      "image/png": "[encoded data removed]",
      "text/plain": [
       "<Figure size 432x288 with 1 Axes>"
      ]
     },
     "metadata": {
      "needs_background": "light"
     },
     "output_type": "display_data"
    }
   ],
   "source": [
    "sns.barplot(x=df.groupby(df.columns[3]).mean()[df.columns[11]].sort_values(ascending=False).nlargest(10).values,\n",
    "            y=df.groupby(df.columns[3]).mean()[df.columns[11]].sort_values(ascending=False).nlargest(10).index,\n",
    "            orient='h')\n",
    "plt.xlabel('CO2 Emissions (g/km)')"
   ]
  },
  {
   "cell_type": "code",
   "execution_count": 23,
   "id": "48d3c4d9-21a0-49f7-a811-c4d73d05700c",
   "metadata": {},
   "outputs": [
    {
     "data": {
      "text/plain": [
       "Text(0.5, 0, 'CO2 Emissions (g/km)')"
      ]
     },
     "execution_count": 23,
     "metadata": {},
     "output_type": "execute_result"
    },
    {
     "data": {
      "image/png": "[encoded data removed]",
      "text/plain": [
       "<Figure size 432x288 with 1 Axes>"
      ]
     },
     "metadata": {
      "needs_background": "light"
     },
     "output_type": "display_data"
    }
   ],
   "source": [
    "sns.barplot(x=df.groupby(df.columns[3]).mean()[df.columns[11]].sort_values(ascending=True).nsmallest(10).values,\n",
    "            y=df.groupby(df.columns[3]).mean()[df.columns[11]].sort_values(ascending=True).nsmallest(10).index,\n",
    "            orient='h')\n",
    "plt.xlabel('CO2 Emissions (g/km)')"
   ]
  },
  {
   "cell_type": "markdown",
   "id": "49723906-d342-442f-b73e-addea967f3b4",
   "metadata": {},
   "source": [
    "É notável a relação linear entre a emissão e o tamanho do motor. A proporcionalidade é observada no gráfico a seguir:"
   ]
  },
  {
   "cell_type": "code",
   "execution_count": 24,
   "id": "36a904b1-eeae-4276-84bb-95d88f3d7b9a",
   "metadata": {},
   "outputs": [
    {
     "data": {
      "text/plain": [
       "<AxesSubplot:xlabel='CO2 Emissions(g/km)', ylabel='Engine Size(L)'>"
      ]
     },
     "execution_count": 24,
     "metadata": {},
     "output_type": "execute_result"
    },
    {
     "data": {
      "image/png": "[encoded data removed]",
      "text/plain": [
       "<Figure size 432x288 with 1 Axes>"
      ]
     },
     "metadata": {
      "needs_background": "light"
     },
     "output_type": "display_data"
    }
   ],
   "source": [
    "sns.scatterplot(x=df[df.columns[11]],y=df[df.columns[3]])"
   ]
  },
  {
   "cell_type": "markdown",
   "id": "af1dbb4f-46e0-4b0c-80a7-ee64a4a62648",
   "metadata": {},
   "source": [
    "Quanto maior o motor, maior sua emissão."
   ]
  },
  {
   "cell_type": "markdown",
   "id": "17579b49-cd94-49ac-8adc-50a5bbafbc07",
   "metadata": {},
   "source": [
    "### 2.5 Número de cilíndros"
   ]
  },
  {
   "cell_type": "code",
   "execution_count": 25,
   "id": "cf507c2b-4dbd-435e-ae7c-f61949fc0238",
   "metadata": {},
   "outputs": [
    {
     "data": {
      "text/plain": [
       "4     3220\n",
       "6     2446\n",
       "8     1399\n",
       "12     135\n",
       "3       95\n",
       "10      41\n",
       "5       26\n",
       "Name: Cylinders, dtype: int64"
      ]
     },
     "execution_count": 25,
     "metadata": {},
     "output_type": "execute_result"
    }
   ],
   "source": [
    "df[df.columns[4]].value_counts()"
   ]
  },
  {
   "cell_type": "code",
   "execution_count": 26,
   "id": "f28d3cf3-cab5-45b5-822d-720ba4eed69b",
   "metadata": {},
   "outputs": [
    {
     "data": {
      "text/plain": [
       "Text(0.5, 0, 'CO2 Emissions (g/km)')"
      ]
     },
     "execution_count": 26,
     "metadata": {},
     "output_type": "execute_result"
    },
    {
     "data": {
      "image/png": "[encoded data removed]",
      "text/plain": [
       "<Figure size 432x288 with 1 Axes>"
      ]
     },
     "metadata": {
      "needs_background": "light"
     },
     "output_type": "display_data"
    }
   ],
   "source": [
    "sns.barplot(x=df.groupby(df.columns[4]).mean()[df.columns[11]].sort_values(ascending=False).values,\n",
    "            y=df.groupby(df.columns[4]).mean()[df.columns[11]].sort_values(ascending=False).index,\n",
    "            orient='h')\n",
    "plt.xlabel('CO2 Emissions (g/km)')"
   ]
  },
  {
   "cell_type": "markdown",
   "id": "b3ffeb59-7d5c-460b-8a4c-c9ed42fa859e",
   "metadata": {},
   "source": [
    "Novamente é observada a relação linear entre as grandezas."
   ]
  },
  {
   "cell_type": "markdown",
   "id": "fc462247-26dc-45e0-970f-8169db3df740",
   "metadata": {},
   "source": [
    "### 2.6 Tipo de Transmissão"
   ]
  },
  {
   "cell_type": "markdown",
   "id": "25a6a87d-7bad-48d6-a196-1e4cff934b32",
   "metadata": {},
   "source": [
    "Desta vez, serão avaliados os diferentes tipo de transmissão dos automóveis:\n",
    "\n",
    "- A: automatic\n",
    "- AM: automated manual\n",
    "- AS: automatic with select shift\n",
    "- AV: continuously variable\n",
    "- M: manual\n",
    "\n",
    "Os números de 3 a 10 após os tipos de transmissão indicam o número de engrenagens presentes."
   ]
  },
  {
   "cell_type": "code",
   "execution_count": 27,
   "id": "5762f87d-3db2-4552-84bf-add35a729c42",
   "metadata": {},
   "outputs": [
    {
     "data": {
      "text/plain": [
       "AS6     1324\n",
       "AS8     1210\n",
       "M6       901\n",
       "A6       787\n",
       "A8       490\n",
       "AM7      430\n",
       "A9       339\n",
       "AS7      317\n",
       "AV       295\n",
       "M5       193\n",
       "AS10     168\n",
       "AM6      132\n",
       "AV7      118\n",
       "AV6      113\n",
       "M7        90\n",
       "A5        83\n",
       "AS9       77\n",
       "A4        65\n",
       "AM8       62\n",
       "A7        52\n",
       "AV8       39\n",
       "A10       31\n",
       "AS5       26\n",
       "AV10      11\n",
       "AM5        4\n",
       "AM9        3\n",
       "AS4        2\n",
       "Name: Transmission, dtype: int64"
      ]
     },
     "execution_count": 27,
     "metadata": {},
     "output_type": "execute_result"
    }
   ],
   "source": [
    "df[df.columns[5]].value_counts()"
   ]
  },
  {
   "cell_type": "code",
   "execution_count": 28,
   "id": "25957414-ed57-442d-9ca7-8f44d56c53e0",
   "metadata": {},
   "outputs": [
    {
     "data": {
      "text/plain": [
       "Text(0.5, 0, 'CO2 Emissions (g/km)')"
      ]
     },
     "execution_count": 28,
     "metadata": {},
     "output_type": "execute_result"
    },
    {
     "data": {
      "image/png": "[encoded data removed]",
      "text/plain": [
       "<Figure size 432x288 with 1 Axes>"
      ]
     },
     "metadata": {
      "needs_background": "light"
     },
     "output_type": "display_data"
    }
   ],
   "source": [
    "sns.barplot(x=df.groupby(df.columns[5]).mean()[df.columns[11]].sort_values(ascending=False).nlargest(10).values,\n",
    "            y=df.groupby(df.columns[5]).mean()[df.columns[11]].sort_values(ascending=False).nlargest(10).index)\n",
    "plt.xlabel('CO2 Emissions (g/km)')"
   ]
  },
  {
   "cell_type": "markdown",
   "id": "a226fb8b-0faa-4dc2-ade5-5df581873dc8",
   "metadata": {},
   "source": [
    "É notável a maior influência das transmissões automáticas A e AS"
   ]
  },
  {
   "cell_type": "code",
   "execution_count": 29,
   "id": "9b74ae92-1762-4b14-8a5a-16b18e152351",
   "metadata": {},
   "outputs": [
    {
     "data": {
      "text/plain": [
       "Text(0.5, 0, 'CO2 Emissions (g/km)')"
      ]
     },
     "execution_count": 29,
     "metadata": {},
     "output_type": "execute_result"
    },
    {
     "data": {
      "image/png": "[encoded data removed]",
      "text/plain": [
       "<Figure size 432x288 with 1 Axes>"
      ]
     },
     "metadata": {
      "needs_background": "light"
     },
     "output_type": "display_data"
    }
   ],
   "source": [
    "sns.barplot(x=df.groupby(df.columns[5]).mean()[df.columns[11]].sort_values(ascending=True).nsmallest(10).values,\n",
    "            y=df.groupby(df.columns[5]).mean()[df.columns[11]].sort_values(ascending=True).nsmallest(10).index)\n",
    "plt.xlabel('CO2 Emissions (g/km)')"
   ]
  },
  {
   "cell_type": "markdown",
   "id": "0dd41eb9-4a96-4159-a1e4-d0125f1da703",
   "metadata": {},
   "source": [
    "As transmissões automáticas do tipo AM e AV geram menos emissões que as demais."
   ]
  },
  {
   "cell_type": "markdown",
   "id": "e5a1024c-5e32-4a64-9429-6d23510f206a",
   "metadata": {},
   "source": [
    "### 2.7 Tipo de Combustível"
   ]
  },
  {
   "cell_type": "markdown",
   "id": "b890b141-750e-4c9e-9cbe-edcd1e86b2cb",
   "metadata": {},
   "source": [
    "Para este caso, teremos a seguinte legenda:\n",
    "\n",
    "- X: regular gasoline\n",
    "- Z: premium gasoline\n",
    "- D: diesel\n",
    "- E: ethanol (E85)\n",
    "- N: natural gas"
   ]
  },
  {
   "cell_type": "code",
   "execution_count": 30,
   "id": "ea927969-d7f9-47df-b3bb-4bf5b8edf2bb",
   "metadata": {},
   "outputs": [
    {
     "data": {
      "text/plain": [
       "X    3634\n",
       "Z    3182\n",
       "E     370\n",
       "D     175\n",
       "N       1\n",
       "Name: Fuel Type, dtype: int64"
      ]
     },
     "execution_count": 30,
     "metadata": {},
     "output_type": "execute_result"
    }
   ],
   "source": [
    "df[df.columns[6]].value_counts()"
   ]
  },
  {
   "cell_type": "code",
   "execution_count": 31,
   "id": "510264d4-97b8-462f-8e86-8ab36d41e495",
   "metadata": {},
   "outputs": [
    {
     "data": {
      "text/plain": [
       "Text(0.5, 0, 'CO2 Emissions (g/km)')"
      ]
     },
     "execution_count": 31,
     "metadata": {},
     "output_type": "execute_result"
    },
    {
     "data": {
      "image/png": "[encoded data removed]",
      "text/plain": [
       "<Figure size 432x288 with 1 Axes>"
      ]
     },
     "metadata": {
      "needs_background": "light"
     },
     "output_type": "display_data"
    }
   ],
   "source": [
    "sns.barplot(x=df.groupby(df.columns[6]).mean()[df.columns[11]].sort_values(ascending=False).values,\n",
    "            y=df.groupby(df.columns[6]).mean()[df.columns[11]].sort_values(ascending=False).index)\n",
    "plt.xlabel('CO2 Emissions (g/km)')"
   ]
  },
  {
   "cell_type": "markdown",
   "id": "6adddb55-3f6a-43ed-8890-857cb70e474a",
   "metadata": {},
   "source": [
    "Mudando para a legenda indicada:"
   ]
  },
  {
   "cell_type": "code",
   "execution_count": 32,
   "id": "a395c697-b13f-4f9c-b69c-537368250b14",
   "metadata": {},
   "outputs": [
    {
     "data": {
      "text/plain": [
       "Text(0.5, 0, 'CO2 Emissions (g/km)')"
      ]
     },
     "execution_count": 32,
     "metadata": {},
     "output_type": "execute_result"
    },
    {
     "data": {
      "image/png": "[encoded data removed]",
      "text/plain": [
       "<Figure size 432x288 with 1 Axes>"
      ]
     },
     "metadata": {
      "needs_background": "light"
     },
     "output_type": "display_data"
    }
   ],
   "source": [
    "sns.barplot(x=df.groupby(df.columns[6]).mean()[df.columns[11]].sort_values(ascending=False).values,\n",
    "            y=['ethanol', 'premium gasoline', 'diesel', 'regular gasoline', 'natural gas'])\n",
    "plt.xlabel('CO2 Emissions (g/km)')"
   ]
  },
  {
   "cell_type": "markdown",
   "id": "d5e5e84c-3197-45bc-a8d3-884ce565de3a",
   "metadata": {},
   "source": [
    "Os carros movidos a etanol apresentam maior emissão quando comparados aos demais."
   ]
  },
  {
   "cell_type": "markdown",
   "id": "f6bb219a-c755-4059-a0bd-d1fcb8df8c20",
   "metadata": {},
   "source": [
    "### 2.8 Consumo de Combustível"
   ]
  },
  {
   "cell_type": "markdown",
   "id": "9929130a-96d1-47e1-8e08-a4cb9e24d649",
   "metadata": {},
   "source": [
    "Por fim, verificando a relação entre o consumo de combustível em cada situação, é evidente que as emissões crescem linearmente com o consumo de combustível em L/100km.\n",
    "\n",
    "Para a medida em mpg (miles per imperial gallon), é observado um decaimento, uma vez que as unidades de volume (gallons) e distância (miles) estão invertidas neste caso."
   ]
  },
  {
   "cell_type": "code",
   "execution_count": 33,
   "id": "86b90f84-0ba0-4ade-bf80-b659569e9727",
   "metadata": {},
   "outputs": [
    {
     "data": {
      "text/plain": [
       "<AxesSubplot:xlabel='CO2 Emissions(g/km)', ylabel='Fuel Consumption City (L/100 km)'>"
      ]
     },
     "execution_count": 33,
     "metadata": {},
     "output_type": "execute_result"
    },
    {
     "data": {
      "image/png": "[encoded data removed]",
      "text/plain": [
       "<Figure size 432x288 with 1 Axes>"
      ]
     },
     "metadata": {
      "needs_background": "light"
     },
     "output_type": "display_data"
    }
   ],
   "source": [
    "sns.scatterplot(x=df[df.columns[11]],y=df[df.columns[7]])"
   ]
  },
  {
   "cell_type": "code",
   "execution_count": 34,
   "id": "268e5bfb-88b1-4ae7-a51b-b0d5a6fb87c4",
   "metadata": {},
   "outputs": [
    {
     "data": {
      "text/plain": [
       "<AxesSubplot:xlabel='CO2 Emissions(g/km)', ylabel='Fuel Consumption Hwy (L/100 km)'>"
      ]
     },
     "execution_count": 34,
     "metadata": {},
     "output_type": "execute_result"
    },
    {
     "data": {
      "image/png": "[encoded data removed]",
      "text/plain": [
       "<Figure size 432x288 with 1 Axes>"
      ]
     },
     "metadata": {
      "needs_background": "light"
     },
     "output_type": "display_data"
    }
   ],
   "source": [
    "sns.scatterplot(x=df[df.columns[11]],y=df[df.columns[8]])"
   ]
  },
  {
   "cell_type": "code",
   "execution_count": 35,
   "id": "2d41065c-cb45-4289-ac57-db9204660e4e",
   "metadata": {},
   "outputs": [
    {
     "data": {
      "text/plain": [
       "<AxesSubplot:xlabel='CO2 Emissions(g/km)', ylabel='Fuel Consumption Comb (L/100 km)'>"
      ]
     },
     "execution_count": 35,
     "metadata": {},
     "output_type": "execute_result"
    },
    {
     "data": {
      "image/png": "[encoded data removed]",
      "text/plain": [
       "<Figure size 432x288 with 1 Axes>"
      ]
     },
     "metadata": {
      "needs_background": "light"
     },
     "output_type": "display_data"
    }
   ],
   "source": [
    "sns.scatterplot(x=df[df.columns[11]],y=df[df.columns[9]])"
   ]
  },
  {
   "cell_type": "code",
   "execution_count": 36,
   "id": "71c23214-da2d-46a9-a10d-61f3c12fbfee",
   "metadata": {},
   "outputs": [
    {
     "data": {
      "text/plain": [
       "<AxesSubplot:xlabel='CO2 Emissions(g/km)', ylabel='Fuel Consumption Comb (mpg)'>"
      ]
     },
     "execution_count": 36,
     "metadata": {},
     "output_type": "execute_result"
    },
    {
     "data": {
      "image/png": "[encoded data removed]",
      "text/plain": [
       "<Figure size 432x288 with 1 Axes>"
      ]
     },
     "metadata": {
      "needs_background": "light"
     },
     "output_type": "display_data"
    }
   ],
   "source": [
    "sns.scatterplot(x=df[df.columns[11]],y=df[df.columns[10]])"
   ]
  },
  {
   "cell_type": "markdown",
   "id": "266b0f44-b973-4947-aba3-566f78c89b3c",
   "metadata": {},
   "source": [
    "### 2.8 Correlações"
   ]
  },
  {
   "cell_type": "markdown",
   "id": "0caed22a-3d5d-4c93-8b65-6e78c665caf7",
   "metadata": {},
   "source": [
    "A correlação entre as grandezas numéricas e a emissão de gás carbônico indica o quão proporcionais elas são"
   ]
  },
  {
   "cell_type": "code",
   "execution_count": 37,
   "id": "441e18ae-96ac-4b52-a574-3f23f483e11c",
   "metadata": {},
   "outputs": [
    {
     "data": {
      "text/plain": [
       "Fuel Consumption Comb (mpg)        -0.911078\n",
       "Cylinders                           0.826704\n",
       "Engine Size(L)                      0.848935\n",
       "Fuel Consumption Hwy (L/100 km)     0.880682\n",
       "Fuel Consumption Comb (L/100 km)    0.915125\n",
       "Fuel Consumption City (L/100 km)    0.916504\n",
       "CO2 Emissions(g/km)                 1.000000\n",
       "Name: CO2 Emissions(g/km), dtype: float64"
      ]
     },
     "execution_count": 37,
     "metadata": {},
     "output_type": "execute_result"
    }
   ],
   "source": [
    "df.corr()[df.columns[11]].sort_values()"
   ]
  },
  {
   "cell_type": "markdown",
   "id": "c2643c6d-5cf6-4abd-b8de-c3cea7456d17",
   "metadata": {},
   "source": [
    "Todas as grandezas apresentam forte contribuição para a emissão de $CO_2$"
   ]
  },
  {
   "cell_type": "markdown",
   "id": "35e873ea-fef9-4091-bc14-c99f738750c4",
   "metadata": {},
   "source": [
    "Para facilitar as manipulações, a coluna de modelos de carro será descartada:"
   ]
  },
  {
   "cell_type": "code",
   "execution_count": 38,
   "id": "28bd9145-97b5-4084-8360-5724c8bf6714",
   "metadata": {},
   "outputs": [
    {
     "data": {
      "text/html": [
       "<div>\n",
       "<style scoped>\n",
       "    .dataframe tbody tr th:only-of-type {\n",
       "        vertical-align: middle;\n",
       "    }\n",
       "\n",
       "    .dataframe tbody tr th {\n",
       "        vertical-align: top;\n",
       "    }\n",
       "\n",
       "    .dataframe thead th {\n",
       "        text-align: right;\n",
       "    }\n",
       "</style>\n",
       "<table border=\"1\" class=\"dataframe\">\n",
       "  <thead>\n",
       "    <tr style=\"text-align: right;\">\n",
       "      <th></th>\n",
       "      <th>Make</th>\n",
       "      <th>Vehicle Class</th>\n",
       "      <th>Engine Size(L)</th>\n",
       "      <th>Cylinders</th>\n",
       "      <th>Transmission</th>\n",
       "      <th>Fuel Type</th>\n",
       "      <th>Fuel Consumption City (L/100 km)</th>\n",
       "      <th>Fuel Consumption Hwy (L/100 km)</th>\n",
       "      <th>Fuel Consumption Comb (L/100 km)</th>\n",
       "      <th>Fuel Consumption Comb (mpg)</th>\n",
       "      <th>CO2 Emissions(g/km)</th>\n",
       "    </tr>\n",
       "  </thead>\n",
       "  <tbody>\n",
       "    <tr>\n",
       "      <th>0</th>\n",
       "      <td>ACURA</td>\n",
       "      <td>COMPACT</td>\n",
       "      <td>2.0</td>\n",
       "      <td>4</td>\n",
       "      <td>AS5</td>\n",
       "      <td>Z</td>\n",
       "      <td>9.9</td>\n",
       "      <td>6.7</td>\n",
       "      <td>8.5</td>\n",
       "      <td>33</td>\n",
       "      <td>196</td>\n",
       "    </tr>\n",
       "    <tr>\n",
       "      <th>1</th>\n",
       "      <td>ACURA</td>\n",
       "      <td>COMPACT</td>\n",
       "      <td>2.4</td>\n",
       "      <td>4</td>\n",
       "      <td>M6</td>\n",
       "      <td>Z</td>\n",
       "      <td>11.2</td>\n",
       "      <td>7.7</td>\n",
       "      <td>9.6</td>\n",
       "      <td>29</td>\n",
       "      <td>221</td>\n",
       "    </tr>\n",
       "    <tr>\n",
       "      <th>2</th>\n",
       "      <td>ACURA</td>\n",
       "      <td>COMPACT</td>\n",
       "      <td>1.5</td>\n",
       "      <td>4</td>\n",
       "      <td>AV7</td>\n",
       "      <td>Z</td>\n",
       "      <td>6.0</td>\n",
       "      <td>5.8</td>\n",
       "      <td>5.9</td>\n",
       "      <td>48</td>\n",
       "      <td>136</td>\n",
       "    </tr>\n",
       "    <tr>\n",
       "      <th>3</th>\n",
       "      <td>ACURA</td>\n",
       "      <td>SUV - SMALL</td>\n",
       "      <td>3.5</td>\n",
       "      <td>6</td>\n",
       "      <td>AS6</td>\n",
       "      <td>Z</td>\n",
       "      <td>12.7</td>\n",
       "      <td>9.1</td>\n",
       "      <td>11.1</td>\n",
       "      <td>25</td>\n",
       "      <td>255</td>\n",
       "    </tr>\n",
       "    <tr>\n",
       "      <th>4</th>\n",
       "      <td>ACURA</td>\n",
       "      <td>SUV - SMALL</td>\n",
       "      <td>3.5</td>\n",
       "      <td>6</td>\n",
       "      <td>AS6</td>\n",
       "      <td>Z</td>\n",
       "      <td>12.1</td>\n",
       "      <td>8.7</td>\n",
       "      <td>10.6</td>\n",
       "      <td>27</td>\n",
       "      <td>244</td>\n",
       "    </tr>\n",
       "  </tbody>\n",
       "</table>\n",
       "</div>"
      ],
      "text/plain": [
       "    Make Vehicle Class  Engine Size(L)  Cylinders Transmission Fuel Type  \\\n",
       "0  ACURA       COMPACT             2.0          4          AS5         Z   \n",
       "1  ACURA       COMPACT             2.4          4           M6         Z   \n",
       "2  ACURA       COMPACT             1.5          4          AV7         Z   \n",
       "3  ACURA   SUV - SMALL             3.5          6          AS6         Z   \n",
       "4  ACURA   SUV - SMALL             3.5          6          AS6         Z   \n",
       "\n",
       "   Fuel Consumption City (L/100 km)  Fuel Consumption Hwy (L/100 km)  \\\n",
       "0                               9.9                              6.7   \n",
       "1                              11.2                              7.7   \n",
       "2                               6.0                              5.8   \n",
       "3                              12.7                              9.1   \n",
       "4                              12.1                              8.7   \n",
       "\n",
       "   Fuel Consumption Comb (L/100 km)  Fuel Consumption Comb (mpg)  \\\n",
       "0                               8.5                           33   \n",
       "1                               9.6                           29   \n",
       "2                               5.9                           48   \n",
       "3                              11.1                           25   \n",
       "4                              10.6                           27   \n",
       "\n",
       "   CO2 Emissions(g/km)  \n",
       "0                  196  \n",
       "1                  221  \n",
       "2                  136  \n",
       "3                  255  \n",
       "4                  244  "
      ]
     },
     "execution_count": 38,
     "metadata": {},
     "output_type": "execute_result"
    }
   ],
   "source": [
    "df = df.drop(df.columns[1], axis=1)\n",
    "df.head()"
   ]
  },
  {
   "cell_type": "markdown",
   "id": "9dbc92f0-e8a3-498a-9053-65854517d33a",
   "metadata": {},
   "source": [
    "Além disso, a coluna de consumo de combustível em mpg também será descartada, já que é uma grandeza duplicada, estando apenas em outra unidade de medida."
   ]
  },
  {
   "cell_type": "code",
   "execution_count": 39,
   "id": "4b081370-1a41-4818-9545-d2e644152cc5",
   "metadata": {},
   "outputs": [],
   "source": [
    "df = df.drop(df.columns[9], axis=1)"
   ]
  },
  {
   "cell_type": "markdown",
   "id": "60cbb396-0271-4b80-a296-72714f9ba9a3",
   "metadata": {},
   "source": [
    "Agora, será gerado um novo dataset considerando os atributos das colunas não numéricas como binárias (0 ou 1)"
   ]
  },
  {
   "cell_type": "code",
   "execution_count": 40,
   "id": "cfd39726-b68e-4070-a14d-739d56ec9b5e",
   "metadata": {},
   "outputs": [
    {
     "data": {
      "text/html": [
       "<div>\n",
       "<style scoped>\n",
       "    .dataframe tbody tr th:only-of-type {\n",
       "        vertical-align: middle;\n",
       "    }\n",
       "\n",
       "    .dataframe tbody tr th {\n",
       "        vertical-align: top;\n",
       "    }\n",
       "\n",
       "    .dataframe thead th {\n",
       "        text-align: right;\n",
       "    }\n",
       "</style>\n",
       "<table border=\"1\" class=\"dataframe\">\n",
       "  <thead>\n",
       "    <tr style=\"text-align: right;\">\n",
       "      <th></th>\n",
       "      <th>Engine Size(L)</th>\n",
       "      <th>Cylinders</th>\n",
       "      <th>Fuel Consumption City (L/100 km)</th>\n",
       "      <th>Fuel Consumption Hwy (L/100 km)</th>\n",
       "      <th>Fuel Consumption Comb (L/100 km)</th>\n",
       "      <th>CO2 Emissions(g/km)</th>\n",
       "      <th>Make_ACURA</th>\n",
       "      <th>Make_ALFA ROMEO</th>\n",
       "      <th>Make_ASTON MARTIN</th>\n",
       "      <th>Make_AUDI</th>\n",
       "      <th>...</th>\n",
       "      <th>Transmission_AV7</th>\n",
       "      <th>Transmission_AV8</th>\n",
       "      <th>Transmission_M5</th>\n",
       "      <th>Transmission_M6</th>\n",
       "      <th>Transmission_M7</th>\n",
       "      <th>Fuel Type_D</th>\n",
       "      <th>Fuel Type_E</th>\n",
       "      <th>Fuel Type_N</th>\n",
       "      <th>Fuel Type_X</th>\n",
       "      <th>Fuel Type_Z</th>\n",
       "    </tr>\n",
       "  </thead>\n",
       "  <tbody>\n",
       "    <tr>\n",
       "      <th>0</th>\n",
       "      <td>2.0</td>\n",
       "      <td>4</td>\n",
       "      <td>9.9</td>\n",
       "      <td>6.7</td>\n",
       "      <td>8.5</td>\n",
       "      <td>196</td>\n",
       "      <td>1</td>\n",
       "      <td>0</td>\n",
       "      <td>0</td>\n",
       "      <td>0</td>\n",
       "      <td>...</td>\n",
       "      <td>0</td>\n",
       "      <td>0</td>\n",
       "      <td>0</td>\n",
       "      <td>0</td>\n",
       "      <td>0</td>\n",
       "      <td>0</td>\n",
       "      <td>0</td>\n",
       "      <td>0</td>\n",
       "      <td>0</td>\n",
       "      <td>1</td>\n",
       "    </tr>\n",
       "    <tr>\n",
       "      <th>1</th>\n",
       "      <td>2.4</td>\n",
       "      <td>4</td>\n",
       "      <td>11.2</td>\n",
       "      <td>7.7</td>\n",
       "      <td>9.6</td>\n",
       "      <td>221</td>\n",
       "      <td>1</td>\n",
       "      <td>0</td>\n",
       "      <td>0</td>\n",
       "      <td>0</td>\n",
       "      <td>...</td>\n",
       "      <td>0</td>\n",
       "      <td>0</td>\n",
       "      <td>0</td>\n",
       "      <td>1</td>\n",
       "      <td>0</td>\n",
       "      <td>0</td>\n",
       "      <td>0</td>\n",
       "      <td>0</td>\n",
       "      <td>0</td>\n",
       "      <td>1</td>\n",
       "    </tr>\n",
       "    <tr>\n",
       "      <th>2</th>\n",
       "      <td>1.5</td>\n",
       "      <td>4</td>\n",
       "      <td>6.0</td>\n",
       "      <td>5.8</td>\n",
       "      <td>5.9</td>\n",
       "      <td>136</td>\n",
       "      <td>1</td>\n",
       "      <td>0</td>\n",
       "      <td>0</td>\n",
       "      <td>0</td>\n",
       "      <td>...</td>\n",
       "      <td>1</td>\n",
       "      <td>0</td>\n",
       "      <td>0</td>\n",
       "      <td>0</td>\n",
       "      <td>0</td>\n",
       "      <td>0</td>\n",
       "      <td>0</td>\n",
       "      <td>0</td>\n",
       "      <td>0</td>\n",
       "      <td>1</td>\n",
       "    </tr>\n",
       "    <tr>\n",
       "      <th>3</th>\n",
       "      <td>3.5</td>\n",
       "      <td>6</td>\n",
       "      <td>12.7</td>\n",
       "      <td>9.1</td>\n",
       "      <td>11.1</td>\n",
       "      <td>255</td>\n",
       "      <td>1</td>\n",
       "      <td>0</td>\n",
       "      <td>0</td>\n",
       "      <td>0</td>\n",
       "      <td>...</td>\n",
       "      <td>0</td>\n",
       "      <td>0</td>\n",
       "      <td>0</td>\n",
       "      <td>0</td>\n",
       "      <td>0</td>\n",
       "      <td>0</td>\n",
       "      <td>0</td>\n",
       "      <td>0</td>\n",
       "      <td>0</td>\n",
       "      <td>1</td>\n",
       "    </tr>\n",
       "    <tr>\n",
       "      <th>4</th>\n",
       "      <td>3.5</td>\n",
       "      <td>6</td>\n",
       "      <td>12.1</td>\n",
       "      <td>8.7</td>\n",
       "      <td>10.6</td>\n",
       "      <td>244</td>\n",
       "      <td>1</td>\n",
       "      <td>0</td>\n",
       "      <td>0</td>\n",
       "      <td>0</td>\n",
       "      <td>...</td>\n",
       "      <td>0</td>\n",
       "      <td>0</td>\n",
       "      <td>0</td>\n",
       "      <td>0</td>\n",
       "      <td>0</td>\n",
       "      <td>0</td>\n",
       "      <td>0</td>\n",
       "      <td>0</td>\n",
       "      <td>0</td>\n",
       "      <td>1</td>\n",
       "    </tr>\n",
       "  </tbody>\n",
       "</table>\n",
       "<p>5 rows × 95 columns</p>\n",
       "</div>"
      ],
      "text/plain": [
       "   Engine Size(L)  Cylinders  Fuel Consumption City (L/100 km)  \\\n",
       "0             2.0          4                               9.9   \n",
       "1             2.4          4                              11.2   \n",
       "2             1.5          4                               6.0   \n",
       "3             3.5          6                              12.7   \n",
       "4             3.5          6                              12.1   \n",
       "\n",
       "   Fuel Consumption Hwy (L/100 km)  Fuel Consumption Comb (L/100 km)  \\\n",
       "0                              6.7                               8.5   \n",
       "1                              7.7                               9.6   \n",
       "2                              5.8                               5.9   \n",
       "3                              9.1                              11.1   \n",
       "4                              8.7                              10.6   \n",
       "\n",
       "   CO2 Emissions(g/km)  Make_ACURA  Make_ALFA ROMEO  Make_ASTON MARTIN  \\\n",
       "0                  196           1                0                  0   \n",
       "1                  221           1                0                  0   \n",
       "2                  136           1                0                  0   \n",
       "3                  255           1                0                  0   \n",
       "4                  244           1                0                  0   \n",
       "\n",
       "   Make_AUDI  ...  Transmission_AV7  Transmission_AV8  Transmission_M5  \\\n",
       "0          0  ...                 0                 0                0   \n",
       "1          0  ...                 0                 0                0   \n",
       "2          0  ...                 1                 0                0   \n",
       "3          0  ...                 0                 0                0   \n",
       "4          0  ...                 0                 0                0   \n",
       "\n",
       "   Transmission_M6  Transmission_M7  Fuel Type_D  Fuel Type_E  Fuel Type_N  \\\n",
       "0                0                0            0            0            0   \n",
       "1                1                0            0            0            0   \n",
       "2                0                0            0            0            0   \n",
       "3                0                0            0            0            0   \n",
       "4                0                0            0            0            0   \n",
       "\n",
       "   Fuel Type_X  Fuel Type_Z  \n",
       "0            0            1  \n",
       "1            0            1  \n",
       "2            0            1  \n",
       "3            0            1  \n",
       "4            0            1  \n",
       "\n",
       "[5 rows x 95 columns]"
      ]
     },
     "execution_count": 40,
     "metadata": {},
     "output_type": "execute_result"
    }
   ],
   "source": [
    "df_dummies = pd.get_dummies(df)\n",
    "df_dummies.head()"
   ]
  },
  {
   "cell_type": "markdown",
   "id": "e38d09a9-eb29-41c7-9e2c-43de45e82adc",
   "metadata": {},
   "source": [
    "Observando as correlações dessa nova tabela:"
   ]
  },
  {
   "cell_type": "code",
   "execution_count": 41,
   "id": "bcc25281-6863-4800-b308-13355b4a22ce",
   "metadata": {},
   "outputs": [
    {
     "data": {
      "text/plain": [
       "CO2 Emissions(g/km)                      1.000000\n",
       "Fuel Consumption City (L/100 km)         0.916504\n",
       "Fuel Consumption Comb (L/100 km)         0.915125\n",
       "Fuel Consumption Hwy (L/100 km)          0.880682\n",
       "Engine Size(L)                           0.848935\n",
       "Cylinders                                0.826704\n",
       "Vehicle Class_SUV - STANDARD             0.315152\n",
       "Vehicle Class_PICKUP TRUCK - STANDARD    0.253365\n",
       "Vehicle Class_VAN - PASSENGER            0.233384\n",
       "Fuel Type_Z                              0.226322\n",
       "Name: CO2 Emissions(g/km), dtype: float64"
      ]
     },
     "execution_count": 41,
     "metadata": {},
     "output_type": "execute_result"
    }
   ],
   "source": [
    "df_dummies.corr()[df_dummies.columns[5]].sort_values().nlargest(10)"
   ]
  },
  {
   "cell_type": "code",
   "execution_count": 42,
   "id": "3e7e5cc2-12a2-4af3-bcf7-8721beb35bb9",
   "metadata": {},
   "outputs": [
    {
     "data": {
      "text/plain": [
       "Transmission_AV                       -0.271960\n",
       "Fuel Type_X                           -0.258118\n",
       "Vehicle Class_COMPACT                 -0.232983\n",
       "Vehicle Class_MID-SIZE                -0.205919\n",
       "Make_HONDA                            -0.180418\n",
       "Vehicle Class_STATION WAGON - SMALL   -0.163903\n",
       "Make_MINI                             -0.157239\n",
       "Transmission_M5                       -0.156338\n",
       "Make_MAZDA                            -0.155522\n",
       "Transmission_AM6                      -0.145757\n",
       "Name: CO2 Emissions(g/km), dtype: float64"
      ]
     },
     "execution_count": 42,
     "metadata": {},
     "output_type": "execute_result"
    }
   ],
   "source": [
    "df_dummies.corr()[df_dummies.columns[5]].sort_values().nsmallest(10)"
   ]
  },
  {
   "cell_type": "markdown",
   "id": "5d75e65b-6f2b-43ff-9b3a-ae6a560d933d",
   "metadata": {},
   "source": [
    "## 3. Previsões (Machine Learning)"
   ]
  },
  {
   "cell_type": "markdown",
   "id": "08b0fed2-58ab-4e2a-bbc5-fb13e3cadb46",
   "metadata": {},
   "source": [
    "A partir do novo dataset, serão definidos os previsores (X) e os valores a serem determinados (y):"
   ]
  },
  {
   "cell_type": "code",
   "execution_count": 43,
   "id": "1f0707d7-a285-4dc9-962c-ceca8cb43319",
   "metadata": {},
   "outputs": [
    {
     "data": {
      "text/html": [
       "<div>\n",
       "<style scoped>\n",
       "    .dataframe tbody tr th:only-of-type {\n",
       "        vertical-align: middle;\n",
       "    }\n",
       "\n",
       "    .dataframe tbody tr th {\n",
       "        vertical-align: top;\n",
       "    }\n",
       "\n",
       "    .dataframe thead th {\n",
       "        text-align: right;\n",
       "    }\n",
       "</style>\n",
       "<table border=\"1\" class=\"dataframe\">\n",
       "  <thead>\n",
       "    <tr style=\"text-align: right;\">\n",
       "      <th></th>\n",
       "      <th>Engine Size(L)</th>\n",
       "      <th>Cylinders</th>\n",
       "      <th>Fuel Consumption City (L/100 km)</th>\n",
       "      <th>Fuel Consumption Hwy (L/100 km)</th>\n",
       "      <th>Fuel Consumption Comb (L/100 km)</th>\n",
       "      <th>Make_ACURA</th>\n",
       "      <th>Make_ALFA ROMEO</th>\n",
       "      <th>Make_ASTON MARTIN</th>\n",
       "      <th>Make_AUDI</th>\n",
       "      <th>Make_BENTLEY</th>\n",
       "      <th>...</th>\n",
       "      <th>Transmission_AV7</th>\n",
       "      <th>Transmission_AV8</th>\n",
       "      <th>Transmission_M5</th>\n",
       "      <th>Transmission_M6</th>\n",
       "      <th>Transmission_M7</th>\n",
       "      <th>Fuel Type_D</th>\n",
       "      <th>Fuel Type_E</th>\n",
       "      <th>Fuel Type_N</th>\n",
       "      <th>Fuel Type_X</th>\n",
       "      <th>Fuel Type_Z</th>\n",
       "    </tr>\n",
       "  </thead>\n",
       "  <tbody>\n",
       "    <tr>\n",
       "      <th>0</th>\n",
       "      <td>2.0</td>\n",
       "      <td>4</td>\n",
       "      <td>9.9</td>\n",
       "      <td>6.7</td>\n",
       "      <td>8.5</td>\n",
       "      <td>1</td>\n",
       "      <td>0</td>\n",
       "      <td>0</td>\n",
       "      <td>0</td>\n",
       "      <td>0</td>\n",
       "      <td>...</td>\n",
       "      <td>0</td>\n",
       "      <td>0</td>\n",
       "      <td>0</td>\n",
       "      <td>0</td>\n",
       "      <td>0</td>\n",
       "      <td>0</td>\n",
       "      <td>0</td>\n",
       "      <td>0</td>\n",
       "      <td>0</td>\n",
       "      <td>1</td>\n",
       "    </tr>\n",
       "    <tr>\n",
       "      <th>1</th>\n",
       "      <td>2.4</td>\n",
       "      <td>4</td>\n",
       "      <td>11.2</td>\n",
       "      <td>7.7</td>\n",
       "      <td>9.6</td>\n",
       "      <td>1</td>\n",
       "      <td>0</td>\n",
       "      <td>0</td>\n",
       "      <td>0</td>\n",
       "      <td>0</td>\n",
       "      <td>...</td>\n",
       "      <td>0</td>\n",
       "      <td>0</td>\n",
       "      <td>0</td>\n",
       "      <td>1</td>\n",
       "      <td>0</td>\n",
       "      <td>0</td>\n",
       "      <td>0</td>\n",
       "      <td>0</td>\n",
       "      <td>0</td>\n",
       "      <td>1</td>\n",
       "    </tr>\n",
       "    <tr>\n",
       "      <th>2</th>\n",
       "      <td>1.5</td>\n",
       "      <td>4</td>\n",
       "      <td>6.0</td>\n",
       "      <td>5.8</td>\n",
       "      <td>5.9</td>\n",
       "      <td>1</td>\n",
       "      <td>0</td>\n",
       "      <td>0</td>\n",
       "      <td>0</td>\n",
       "      <td>0</td>\n",
       "      <td>...</td>\n",
       "      <td>1</td>\n",
       "      <td>0</td>\n",
       "      <td>0</td>\n",
       "      <td>0</td>\n",
       "      <td>0</td>\n",
       "      <td>0</td>\n",
       "      <td>0</td>\n",
       "      <td>0</td>\n",
       "      <td>0</td>\n",
       "      <td>1</td>\n",
       "    </tr>\n",
       "    <tr>\n",
       "      <th>3</th>\n",
       "      <td>3.5</td>\n",
       "      <td>6</td>\n",
       "      <td>12.7</td>\n",
       "      <td>9.1</td>\n",
       "      <td>11.1</td>\n",
       "      <td>1</td>\n",
       "      <td>0</td>\n",
       "      <td>0</td>\n",
       "      <td>0</td>\n",
       "      <td>0</td>\n",
       "      <td>...</td>\n",
       "      <td>0</td>\n",
       "      <td>0</td>\n",
       "      <td>0</td>\n",
       "      <td>0</td>\n",
       "      <td>0</td>\n",
       "      <td>0</td>\n",
       "      <td>0</td>\n",
       "      <td>0</td>\n",
       "      <td>0</td>\n",
       "      <td>1</td>\n",
       "    </tr>\n",
       "    <tr>\n",
       "      <th>4</th>\n",
       "      <td>3.5</td>\n",
       "      <td>6</td>\n",
       "      <td>12.1</td>\n",
       "      <td>8.7</td>\n",
       "      <td>10.6</td>\n",
       "      <td>1</td>\n",
       "      <td>0</td>\n",
       "      <td>0</td>\n",
       "      <td>0</td>\n",
       "      <td>0</td>\n",
       "      <td>...</td>\n",
       "      <td>0</td>\n",
       "      <td>0</td>\n",
       "      <td>0</td>\n",
       "      <td>0</td>\n",
       "      <td>0</td>\n",
       "      <td>0</td>\n",
       "      <td>0</td>\n",
       "      <td>0</td>\n",
       "      <td>0</td>\n",
       "      <td>1</td>\n",
       "    </tr>\n",
       "  </tbody>\n",
       "</table>\n",
       "<p>5 rows × 94 columns</p>\n",
       "</div>"
      ],
      "text/plain": [
       "   Engine Size(L)  Cylinders  Fuel Consumption City (L/100 km)  \\\n",
       "0             2.0          4                               9.9   \n",
       "1             2.4          4                              11.2   \n",
       "2             1.5          4                               6.0   \n",
       "3             3.5          6                              12.7   \n",
       "4             3.5          6                              12.1   \n",
       "\n",
       "   Fuel Consumption Hwy (L/100 km)  Fuel Consumption Comb (L/100 km)  \\\n",
       "0                              6.7                               8.5   \n",
       "1                              7.7                               9.6   \n",
       "2                              5.8                               5.9   \n",
       "3                              9.1                              11.1   \n",
       "4                              8.7                              10.6   \n",
       "\n",
       "   Make_ACURA  Make_ALFA ROMEO  Make_ASTON MARTIN  Make_AUDI  Make_BENTLEY  \\\n",
       "0           1                0                  0          0             0   \n",
       "1           1                0                  0          0             0   \n",
       "2           1                0                  0          0             0   \n",
       "3           1                0                  0          0             0   \n",
       "4           1                0                  0          0             0   \n",
       "\n",
       "   ...  Transmission_AV7  Transmission_AV8  Transmission_M5  Transmission_M6  \\\n",
       "0  ...                 0                 0                0                0   \n",
       "1  ...                 0                 0                0                1   \n",
       "2  ...                 1                 0                0                0   \n",
       "3  ...                 0                 0                0                0   \n",
       "4  ...                 0                 0                0                0   \n",
       "\n",
       "   Transmission_M7  Fuel Type_D  Fuel Type_E  Fuel Type_N  Fuel Type_X  \\\n",
       "0                0            0            0            0            0   \n",
       "1                0            0            0            0            0   \n",
       "2                0            0            0            0            0   \n",
       "3                0            0            0            0            0   \n",
       "4                0            0            0            0            0   \n",
       "\n",
       "   Fuel Type_Z  \n",
       "0            1  \n",
       "1            1  \n",
       "2            1  \n",
       "3            1  \n",
       "4            1  \n",
       "\n",
       "[5 rows x 94 columns]"
      ]
     },
     "execution_count": 43,
     "metadata": {},
     "output_type": "execute_result"
    }
   ],
   "source": [
    "X = df_dummies.drop('CO2 Emissions(g/km)', axis=1)\n",
    "X.head()"
   ]
  },
  {
   "cell_type": "code",
   "execution_count": 44,
   "id": "aec80fd1-948b-42cc-b940-b61bf9aef554",
   "metadata": {},
   "outputs": [],
   "source": [
    "y = df_dummies['CO2 Emissions(g/km)']"
   ]
  },
  {
   "cell_type": "code",
   "execution_count": 45,
   "id": "0d6c27ce-cab8-47c1-907b-1b4aefe892e4",
   "metadata": {},
   "outputs": [
    {
     "data": {
      "text/plain": [
       "0       196\n",
       "1       221\n",
       "2       136\n",
       "3       255\n",
       "4       244\n",
       "       ... \n",
       "7380    219\n",
       "7381    232\n",
       "7382    240\n",
       "7383    232\n",
       "7384    248\n",
       "Name: CO2 Emissions(g/km), Length: 7362, dtype: int64"
      ]
     },
     "execution_count": 45,
     "metadata": {},
     "output_type": "execute_result"
    }
   ],
   "source": [
    "y"
   ]
  },
  {
   "cell_type": "markdown",
   "id": "ca93e0d2-f2b7-4767-8f3f-c235fffb2948",
   "metadata": {},
   "source": [
    "### 3.1 Separando as bases de treinamento e teste"
   ]
  },
  {
   "cell_type": "code",
   "execution_count": 46,
   "id": "6b1fd639-654f-4efb-a987-229422fe27b1",
   "metadata": {},
   "outputs": [],
   "source": [
    "from sklearn.model_selection import train_test_split\n",
    "X_train, X_test, y_train, y_test = train_test_split(X, y, test_size=0.25, random_state=42)"
   ]
  },
  {
   "cell_type": "code",
   "execution_count": 47,
   "id": "65520555-8ba2-48eb-b207-be22a00e39ba",
   "metadata": {},
   "outputs": [
    {
     "data": {
      "text/plain": [
       "(5521, 1841, 5521, 1841)"
      ]
     },
     "execution_count": 47,
     "metadata": {},
     "output_type": "execute_result"
    }
   ],
   "source": [
    "len(X_train), len(X_test), len(y_train), len(y_test)"
   ]
  },
  {
   "cell_type": "markdown",
   "id": "a67c36f3-ca71-4df9-90c1-05e6b6e2bab2",
   "metadata": {},
   "source": [
    "### 3.2 Escalonando as bases"
   ]
  },
  {
   "cell_type": "markdown",
   "id": "163e43f6-0607-4144-b17d-f1481aa2fe54",
   "metadata": {},
   "source": [
    "Será utilizado o MinMaxScaler para que os dados sejam padronizados numa mesma ordem de grandeza."
   ]
  },
  {
   "cell_type": "code",
   "execution_count": 48,
   "id": "b3c67e79-e272-4103-af21-50c998ff8481",
   "metadata": {},
   "outputs": [],
   "source": [
    "from sklearn.preprocessing import MinMaxScaler\n",
    "scaler = MinMaxScaler()"
   ]
  },
  {
   "cell_type": "code",
   "execution_count": 49,
   "id": "d6c58f48-4509-48ed-8c13-de42a6ffbb62",
   "metadata": {},
   "outputs": [],
   "source": [
    "X_train = scaler.fit_transform(X_train)\n",
    "X_test = scaler.transform(X_test)"
   ]
  },
  {
   "cell_type": "markdown",
   "id": "5ac58c13-b20a-4da2-ac92-a1bb7da79ca7",
   "metadata": {},
   "source": [
    "### 3.3 Regressão Linear"
   ]
  },
  {
   "cell_type": "markdown",
   "id": "3a99e2de-52dd-429c-8b6b-7a0a25af2778",
   "metadata": {},
   "source": [
    "Finalmente, será feita a regressão para que os valores possam ser determinados!"
   ]
  },
  {
   "cell_type": "code",
   "execution_count": 50,
   "id": "0a1755a6-6a84-46e4-b89d-3e12c129817b",
   "metadata": {},
   "outputs": [],
   "source": [
    "from sklearn.linear_model import LinearRegression"
   ]
  },
  {
   "cell_type": "code",
   "execution_count": 51,
   "id": "45b551f7-3d6e-438e-94be-ebf8708b40c7",
   "metadata": {},
   "outputs": [],
   "source": [
    "reg = LinearRegression() #Criação do modelo"
   ]
  },
  {
   "cell_type": "code",
   "execution_count": 52,
   "id": "2b4462cc-33bf-4d10-8d6b-87be51b3973d",
   "metadata": {},
   "outputs": [
    {
     "data": {
      "text/plain": [
       "LinearRegression()"
      ]
     },
     "execution_count": 52,
     "metadata": {},
     "output_type": "execute_result"
    }
   ],
   "source": [
    "reg.fit(X_train, y_train) #fitando o modelo na base de treinamento"
   ]
  },
  {
   "cell_type": "code",
   "execution_count": 53,
   "id": "8178dd22-e8b3-4df2-9b2b-65a509be35ae",
   "metadata": {},
   "outputs": [],
   "source": [
    "y_pred = reg.predict(X_test) #predições da base de teste"
   ]
  },
  {
   "cell_type": "code",
   "execution_count": 54,
   "id": "ab486c9a-26b5-487f-adba-bb3b8955ff7a",
   "metadata": {},
   "outputs": [
    {
     "data": {
      "text/plain": [
       "array([226.80615234, 189.94482422, 233.64257812, ..., 160.59082031,\n",
       "       302.07226562, 247.09619141])"
      ]
     },
     "execution_count": 54,
     "metadata": {},
     "output_type": "execute_result"
    }
   ],
   "source": [
    "y_pred"
   ]
  },
  {
   "cell_type": "markdown",
   "id": "7afbe83c-daec-4711-bf61-e66a057ad154",
   "metadata": {},
   "source": [
    "#### Métricas de avaliação do modelo\n",
    "\n",
    "Para observar os erros nas predições, serão utilizadas algumas métricas:\n",
    "\n",
    "**Mean Absolute Error** (MAE) é a média do valor absoluto dos erros:\n",
    "\n",
    "$$\\frac 1n\\sum_{i=1}^n|y_i-\\hat{y}_i|$$\n",
    "\n",
    "**Mean Squared Error** (MSE) é a média dos quadrados dos erros:\n",
    "\n",
    "$$\\frac 1n\\sum_{i=1}^n(y_i-\\hat{y}_i)^2$$\n",
    "\n",
    "**Root Mean Squared Error** (RMSE) é a raiz quadrada da média dos quadrados dos erros:\n",
    "\n",
    "$$\\sqrt{\\frac 1n\\sum_{i=1}^n(y_i-\\hat{y}_i)^2}$$\n",
    "\n",
    "OBS: $y_i$ são os valores reais e $\\hat{y}_i$ são os valores gerados pela predição.\n",
    "\n",
    "Comparando:\n",
    "\n",
    "- **MAE** é a mais fácil de entender, já que trata-se apenas do erro absoluto.\n",
    "- **MSE** 'pune' valores maiores de erro por conta da elevação ao quadrado.\n",
    "- **RMSE** é a mais interpretável quando comparado à ordem de grandeza dos valores a serem determinados.\n",
    "\n",
    "No fim das contas, o objetivo é minimizar estes erros.\n"
   ]
  },
  {
   "cell_type": "code",
   "execution_count": 55,
   "id": "723dfb18-cc34-47f8-b196-559c74914e3f",
   "metadata": {},
   "outputs": [],
   "source": [
    "from sklearn.metrics import mean_absolute_error,mean_squared_error"
   ]
  },
  {
   "cell_type": "code",
   "execution_count": 56,
   "id": "a1f717ea-ccf3-438f-80bc-bf5eb7177b5f",
   "metadata": {},
   "outputs": [],
   "source": [
    "MAE = mean_absolute_error(y_test, y_pred)\n",
    "MSE = mean_squared_error(y_test, y_pred)\n",
    "RMSE = np.sqrt(MSE)"
   ]
  },
  {
   "cell_type": "code",
   "execution_count": 57,
   "id": "887b66fe-ee4c-443b-be21-37505e63cab7",
   "metadata": {},
   "outputs": [
    {
     "data": {
      "text/plain": [
       "(2991056491.481327, 1.6470357227890698e+22, 128336889583.2009)"
      ]
     },
     "execution_count": 57,
     "metadata": {},
     "output_type": "execute_result"
    }
   ],
   "source": [
    "MAE, MSE, RMSE"
   ]
  },
  {
   "cell_type": "markdown",
   "id": "c7e93ecc-a2f1-40b9-9eca-0b581b8d45ff",
   "metadata": {},
   "source": [
    "#### Erros muito grandes!\n",
    "\n",
    "Nota-se que o modelo de Regressão Linear não é o mais adequado para esta base de dados."
   ]
  },
  {
   "cell_type": "markdown",
   "id": "2963e580-addb-4d8b-b925-9584396f37de",
   "metadata": {},
   "source": [
    "### 3.4 Random Forest Regressor"
   ]
  },
  {
   "cell_type": "markdown",
   "id": "87618f78-2205-4d3d-9ba2-96a51f695aae",
   "metadata": {},
   "source": [
    "Para dados que não funcionam bem com modelos lineares, pode-se escolher algum tipo de regressor não-linear, como o das florestas randômicas (Random Forest)"
   ]
  },
  {
   "cell_type": "code",
   "execution_count": 58,
   "id": "7f9546d8-860e-4848-86c6-2475e40b43fc",
   "metadata": {},
   "outputs": [],
   "source": [
    "from sklearn.ensemble import RandomForestRegressor"
   ]
  },
  {
   "cell_type": "markdown",
   "id": "5f51c359-e0d0-4a86-889b-cec9b9488d0f",
   "metadata": {},
   "source": [
    "Serão testados diferentes hiperparâmetros analisando as métricas de erro citadas anteriormente"
   ]
  },
  {
   "cell_type": "code",
   "execution_count": 59,
   "id": "dc8b10f6-a093-4238-a8b0-097b0027c665",
   "metadata": {},
   "outputs": [
    {
     "name": "stdout",
     "output_type": "stream",
     "text": [
      "1.760251975979841 10.264405176020192 3.2038110393748553\n",
      "1.757336041417551 10.516440484266525 3.2429061787641227\n",
      "1.7320822320424003 10.02819554395131 3.1667326290596924\n",
      "1.7291686424735002 9.964013466138331 3.1565825612738743\n",
      "1.7424436529573466 10.29724435059391 3.2089319641578427\n"
     ]
    }
   ],
   "source": [
    "for i in [10, 50, 100, 150, 200]:\n",
    "    model = RandomForestRegressor(n_estimators=i)\n",
    "    model.fit(X_train, y_train)\n",
    "    y_pred = model.predict(X_test)\n",
    "    MAE = mean_absolute_error(y_test, y_pred)\n",
    "    MSE = mean_squared_error(y_test, y_pred)\n",
    "    RMSE = np.sqrt(MSE)\n",
    "    print(MAE, MSE, RMSE)"
   ]
  },
  {
   "cell_type": "markdown",
   "id": "c25da41c-b65e-4c23-896f-42ccfe323b4f",
   "metadata": {},
   "source": [
    "#### Muito melhor!\n",
    "\n",
    "O modelo de regressão por Random Forest se saiu muito melhor nestes dados!\n",
    "\n",
    "Por fim, escolhendo o parâmetro de 150 'estimadores'"
   ]
  },
  {
   "cell_type": "code",
   "execution_count": 60,
   "id": "a345d118-ef64-43e1-965b-5ae256e1a224",
   "metadata": {},
   "outputs": [
    {
     "name": "stdout",
     "output_type": "stream",
     "text": [
      "1.7311611716809243 10.082377236340868 3.1752759307406446\n"
     ]
    }
   ],
   "source": [
    "model = RandomForestRegressor(n_estimators=150)\n",
    "model.fit(X_train, y_train)\n",
    "y_pred = model.predict(X_test)\n",
    "MAE = mean_absolute_error(y_test, y_pred)\n",
    "MSE = mean_squared_error(y_test, y_pred)\n",
    "RMSE = np.sqrt(MSE)\n",
    "print(MAE, MSE, RMSE)"
   ]
  },
  {
   "cell_type": "markdown",
   "id": "483b8981-420c-4681-aeeb-5eb482248aa8",
   "metadata": {},
   "source": [
    "#### Outra métrica\n",
    "\n",
    "Uma forma de avaliar o quanto os valores obtidos variaram em relação aos valores da base de teste é através da CONCORDÂNCIA.\n",
    "\n",
    "$$ Concordância (\\%) = 100* \\left(1 - \\frac{|y_{teste} - y_{pred}|}{y_{teste}}\\right) $$\n",
    "\n",
    "Esta grandeza mostra qual é a porcentagem do valor obtido pelo modelo em relação ao valor real (% de acerto)"
   ]
  },
  {
   "cell_type": "code",
   "execution_count": 61,
   "id": "0995fc9a-641b-4d46-bf25-59ec0b3230a2",
   "metadata": {},
   "outputs": [],
   "source": [
    "conc = 100*(1 - abs(y_test.values - y_pred)/y_test)"
   ]
  },
  {
   "cell_type": "code",
   "execution_count": 62,
   "id": "1dfb2fc3-7c04-493b-bd85-fe4984e191f7",
   "metadata": {},
   "outputs": [
    {
     "data": {
      "text/plain": [
       "(62.344287949921764, 100.0, 99.28726040525765)"
      ]
     },
     "execution_count": 62,
     "metadata": {},
     "output_type": "execute_result"
    }
   ],
   "source": [
    "conc.min(), conc.max(), conc.mean()"
   ]
  },
  {
   "cell_type": "markdown",
   "id": "ee3d5f52-81d5-4590-a577-c8325355832b",
   "metadata": {},
   "source": [
    "O modelo de regressão de Random Forest apresentou uma concordância média de 99.3% com os valores reais."
   ]
  },
  {
   "cell_type": "markdown",
   "id": "bb804432-4b12-4b19-b767-1cfd9b097e44",
   "metadata": {},
   "source": [
    "## 4. Conclusão"
   ]
  },
  {
   "cell_type": "markdown",
   "id": "b2645d42-8d5f-46fe-aa40-e454d54ddb4b",
   "metadata": {},
   "source": [
    "Para este conjunto de dados, foi necessária a utilização de um modelo de regressão não-linear (Random Forest Regressor).\n",
    "\n",
    "Assim, as predições obtiveram erros muito menores quando comparados ao modelo de regressão linear."
   ]
  }
 ],
 "metadata": {
  "kernelspec": {
   "display_name": "tf_py39",
   "language": "python",
   "name": "tf_py39"
  },
  "language_info": {
   "codemirror_mode": {
    "name": "ipython",
    "version": 3
   },
   "file_extension": ".py",
   "mimetype": "text/x-python",
   "name": "python",
   "nbconvert_exporter": "python",
   "pygments_lexer": "ipython3",
   "version": "3.9.12"
  }
 },
 "nbformat": 4,
 "nbformat_minor": 5
}
